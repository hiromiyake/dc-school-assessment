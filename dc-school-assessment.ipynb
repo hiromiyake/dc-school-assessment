{
 "cells": [
  {
   "cell_type": "markdown",
   "metadata": {},
   "source": [
    "# DC Public Schools Student Assessment Results Analysis\n",
    "\n",
    "## 5/2/2019\n",
    "\n",
    "### Hiro Miyake"
   ]
  },
  {
   "cell_type": "markdown",
   "metadata": {},
   "source": [
    "# Introduction  \n",
    "The DC government shares hundreds of data sets at http://opendata.dc.gov/. I explored one particular data set there, the \"DC Public Schools Student Assessment Results\" data set.\n",
    "\n",
    "From the data source website:  \n",
    "*\"This data contains the official 2016-2017 assessment performance results for the Partnership for Assessment of Readiness for College (PARCC) and Multi-State Alternate Assessment (MSAA) assessments in ELA and mathematics. This also includes historical performance information from the 2015-16 and 2014-15 PARCC and MSAA administrations. The dataset contains detailed information, showing multiple levels of results for specific groups of students, for all grades within a school, and for individual grades. For more information, visit https://osse.dc.gov/assessments.\"*\n",
    "\n",
    "In this notebook, I explore the factors affecting student assessment results which could be useful for the school board in deciding how best to improve the results for all students.\n",
    "\n",
    "### Data source  \n",
    "http://opendata.dc.gov/datasets/dc-public-schools-student-assessment-results\n",
    "\n",
    "### Other references  \n",
    "https://osse.dc.gov/assessments  \n",
    "http://results.osse.dc.gov  \n",
    "https://osse.dc.gov/parcc  \n",
    "https://sboe.dc.gov/page/key-terms-know-dc-public-education-enrollment"
   ]
  },
  {
   "cell_type": "code",
   "execution_count": 1,
   "metadata": {
    "collapsed": true
   },
   "outputs": [],
   "source": [
    "%matplotlib inline\n",
    "\n",
    "import pandas as pd\n",
    "import numpy as np\n",
    "\n",
    "import statsmodels.formula.api as smf\n",
    "from sklearn.metrics import r2_score\n",
    "\n",
    "import matplotlib.pyplot as plt"
   ]
  },
  {
   "cell_type": "markdown",
   "metadata": {},
   "source": [
    "# Loading the data and exploratory data analysis"
   ]
  },
  {
   "cell_type": "markdown",
   "metadata": {},
   "source": [
    "Let's load the data and try to understand what is in it."
   ]
  },
  {
   "cell_type": "code",
   "execution_count": 2,
   "metadata": {
    "collapsed": true
   },
   "outputs": [],
   "source": [
    "df = pd.read_csv('DC_Public_Schools_Student_Assessment_Results.csv')"
   ]
  },
  {
   "cell_type": "code",
   "execution_count": 3,
   "metadata": {
    "collapsed": false
   },
   "outputs": [],
   "source": [
    "# Alternatively, you can download csv data directly into a pandas dataframe\n",
    "#url = 'https://opendata.arcgis.com/datasets/85fce54dea6946dea827c02a6bda88bb_23.csv'\n",
    "#df = pd.read_csv(url)"
   ]
  },
  {
   "cell_type": "code",
   "execution_count": 4,
   "metadata": {
    "collapsed": false
   },
   "outputs": [
    {
     "data": {
      "text/html": [
       "<div>\n",
       "<style scoped>\n",
       "    .dataframe tbody tr th:only-of-type {\n",
       "        vertical-align: middle;\n",
       "    }\n",
       "\n",
       "    .dataframe tbody tr th {\n",
       "        vertical-align: top;\n",
       "    }\n",
       "\n",
       "    .dataframe thead th {\n",
       "        text-align: right;\n",
       "    }\n",
       "</style>\n",
       "<table border=\"1\" class=\"dataframe\">\n",
       "  <thead>\n",
       "    <tr style=\"text-align: right;\">\n",
       "      <th></th>\n",
       "      <th>OBJECTID</th>\n",
       "      <th>SCHOOL_YEAR</th>\n",
       "      <th>SCHOOL_WARD</th>\n",
       "      <th>SCHOOL_CODE</th>\n",
       "      <th>SCHOOL_NAME</th>\n",
       "      <th>LEA_CODE</th>\n",
       "      <th>LEA_NAME</th>\n",
       "      <th>ASSESSMENT_TYPE</th>\n",
       "      <th>SUBJECT</th>\n",
       "      <th>TESTED_GRADE_SUBJECT</th>\n",
       "      <th>...</th>\n",
       "      <th>SUBGROUP</th>\n",
       "      <th>SUBGROUP_VALUE</th>\n",
       "      <th>PERCENT_MEETING_OR_EXCEEDING_E</th>\n",
       "      <th>PERCENT_LEVEL_3_</th>\n",
       "      <th>PERCENT_LEVEL_1</th>\n",
       "      <th>PERCENT_LEVEL_2</th>\n",
       "      <th>PERCENT_LEVEL_3</th>\n",
       "      <th>PERCENT_LEVEL_4</th>\n",
       "      <th>PERCENT_LEVEL_5</th>\n",
       "      <th>TOTAL_NUMBER_VALID_TEST_TAKERS</th>\n",
       "    </tr>\n",
       "  </thead>\n",
       "  <tbody>\n",
       "    <tr>\n",
       "      <th>0</th>\n",
       "      <td>3029</td>\n",
       "      <td>2014-15</td>\n",
       "      <td>Ward 4</td>\n",
       "      <td>213</td>\n",
       "      <td>Brightwood EC</td>\n",
       "      <td>1</td>\n",
       "      <td>District of Columbia Public Schools</td>\n",
       "      <td>PARCC</td>\n",
       "      <td>ELA</td>\n",
       "      <td>Grade 8</td>\n",
       "      <td>...</td>\n",
       "      <td>Special Programs</td>\n",
       "      <td>At-Risk</td>\n",
       "      <td>n&lt;25</td>\n",
       "      <td>n&lt;25</td>\n",
       "      <td>n&lt;25</td>\n",
       "      <td>n&lt;25</td>\n",
       "      <td>n&lt;25</td>\n",
       "      <td>n&lt;25</td>\n",
       "      <td>n&lt;25</td>\n",
       "      <td>n&lt;25</td>\n",
       "    </tr>\n",
       "    <tr>\n",
       "      <th>1</th>\n",
       "      <td>3030</td>\n",
       "      <td>2014-15</td>\n",
       "      <td>Ward 4</td>\n",
       "      <td>213</td>\n",
       "      <td>Brightwood EC</td>\n",
       "      <td>1</td>\n",
       "      <td>District of Columbia Public Schools</td>\n",
       "      <td>PARCC</td>\n",
       "      <td>ELA</td>\n",
       "      <td>Grade 8</td>\n",
       "      <td>...</td>\n",
       "      <td>Special Programs</td>\n",
       "      <td>Economically Disadvantaged</td>\n",
       "      <td>7%</td>\n",
       "      <td>23.3%</td>\n",
       "      <td>44.2%</td>\n",
       "      <td>32.6%</td>\n",
       "      <td>16.3%</td>\n",
       "      <td>7%</td>\n",
       "      <td>0.0%</td>\n",
       "      <td>43</td>\n",
       "    </tr>\n",
       "    <tr>\n",
       "      <th>2</th>\n",
       "      <td>3031</td>\n",
       "      <td>2014-15</td>\n",
       "      <td>Ward 4</td>\n",
       "      <td>213</td>\n",
       "      <td>Brightwood EC</td>\n",
       "      <td>1</td>\n",
       "      <td>District of Columbia Public Schools</td>\n",
       "      <td>All</td>\n",
       "      <td>ELA</td>\n",
       "      <td>Grades 3-8</td>\n",
       "      <td>...</td>\n",
       "      <td>All</td>\n",
       "      <td>All</td>\n",
       "      <td>6.4%</td>\n",
       "      <td>26%</td>\n",
       "      <td>NaN</td>\n",
       "      <td>NaN</td>\n",
       "      <td>NaN</td>\n",
       "      <td>NaN</td>\n",
       "      <td>NaN</td>\n",
       "      <td>281</td>\n",
       "    </tr>\n",
       "    <tr>\n",
       "      <th>3</th>\n",
       "      <td>3032</td>\n",
       "      <td>2014-15</td>\n",
       "      <td>Ward 4</td>\n",
       "      <td>213</td>\n",
       "      <td>Brightwood EC</td>\n",
       "      <td>1</td>\n",
       "      <td>District of Columbia Public Schools</td>\n",
       "      <td>PARCC</td>\n",
       "      <td>ELA</td>\n",
       "      <td>Grades 3-8</td>\n",
       "      <td>...</td>\n",
       "      <td>All</td>\n",
       "      <td>All</td>\n",
       "      <td>6.4%</td>\n",
       "      <td>26%</td>\n",
       "      <td>47.3%</td>\n",
       "      <td>26.7%</td>\n",
       "      <td>19.6%</td>\n",
       "      <td>6.4%</td>\n",
       "      <td>0.0%</td>\n",
       "      <td>281</td>\n",
       "    </tr>\n",
       "    <tr>\n",
       "      <th>4</th>\n",
       "      <td>3033</td>\n",
       "      <td>2014-15</td>\n",
       "      <td>Ward 4</td>\n",
       "      <td>213</td>\n",
       "      <td>Brightwood EC</td>\n",
       "      <td>1</td>\n",
       "      <td>District of Columbia Public Schools</td>\n",
       "      <td>All</td>\n",
       "      <td>Math</td>\n",
       "      <td>Algebra I</td>\n",
       "      <td>...</td>\n",
       "      <td>All</td>\n",
       "      <td>All</td>\n",
       "      <td>n&lt;25</td>\n",
       "      <td>n&lt;25</td>\n",
       "      <td>NaN</td>\n",
       "      <td>NaN</td>\n",
       "      <td>NaN</td>\n",
       "      <td>NaN</td>\n",
       "      <td>NaN</td>\n",
       "      <td>n&lt;25</td>\n",
       "    </tr>\n",
       "  </tbody>\n",
       "</table>\n",
       "<p>5 rows × 21 columns</p>\n",
       "</div>"
      ],
      "text/plain": [
       "   OBJECTID SCHOOL_YEAR SCHOOL_WARD  SCHOOL_CODE    SCHOOL_NAME  LEA_CODE  \\\n",
       "0      3029     2014-15      Ward 4          213  Brightwood EC         1   \n",
       "1      3030     2014-15      Ward 4          213  Brightwood EC         1   \n",
       "2      3031     2014-15      Ward 4          213  Brightwood EC         1   \n",
       "3      3032     2014-15      Ward 4          213  Brightwood EC         1   \n",
       "4      3033     2014-15      Ward 4          213  Brightwood EC         1   \n",
       "\n",
       "                              LEA_NAME ASSESSMENT_TYPE SUBJECT  \\\n",
       "0  District of Columbia Public Schools           PARCC     ELA   \n",
       "1  District of Columbia Public Schools           PARCC     ELA   \n",
       "2  District of Columbia Public Schools             All     ELA   \n",
       "3  District of Columbia Public Schools           PARCC     ELA   \n",
       "4  District of Columbia Public Schools             All    Math   \n",
       "\n",
       "  TESTED_GRADE_SUBJECT              ...                        SUBGROUP  \\\n",
       "0              Grade 8              ...                Special Programs   \n",
       "1              Grade 8              ...                Special Programs   \n",
       "2           Grades 3-8              ...                             All   \n",
       "3           Grades 3-8              ...                             All   \n",
       "4            Algebra I              ...                             All   \n",
       "\n",
       "               SUBGROUP_VALUE PERCENT_MEETING_OR_EXCEEDING_E PERCENT_LEVEL_3_  \\\n",
       "0                     At-Risk                           n<25             n<25   \n",
       "1  Economically Disadvantaged                             7%            23.3%   \n",
       "2                         All                           6.4%              26%   \n",
       "3                         All                           6.4%              26%   \n",
       "4                         All                           n<25             n<25   \n",
       "\n",
       "  PERCENT_LEVEL_1 PERCENT_LEVEL_2 PERCENT_LEVEL_3 PERCENT_LEVEL_4  \\\n",
       "0            n<25            n<25            n<25            n<25   \n",
       "1           44.2%           32.6%           16.3%              7%   \n",
       "2             NaN             NaN             NaN             NaN   \n",
       "3           47.3%           26.7%           19.6%            6.4%   \n",
       "4             NaN             NaN             NaN             NaN   \n",
       "\n",
       "  PERCENT_LEVEL_5 TOTAL_NUMBER_VALID_TEST_TAKERS  \n",
       "0            n<25                           n<25  \n",
       "1            0.0%                             43  \n",
       "2             NaN                            281  \n",
       "3            0.0%                            281  \n",
       "4             NaN                           n<25  \n",
       "\n",
       "[5 rows x 21 columns]"
      ]
     },
     "execution_count": 4,
     "metadata": {},
     "output_type": "execute_result"
    }
   ],
   "source": [
    "df.head()"
   ]
  },
  {
   "cell_type": "code",
   "execution_count": 5,
   "metadata": {
    "collapsed": false
   },
   "outputs": [
    {
     "data": {
      "text/plain": [
       "(189364, 21)"
      ]
     },
     "execution_count": 5,
     "metadata": {},
     "output_type": "execute_result"
    }
   ],
   "source": [
    "df.shape"
   ]
  },
  {
   "cell_type": "markdown",
   "metadata": {},
   "source": [
    "Data has 189364 rows and 21 columns."
   ]
  },
  {
   "cell_type": "code",
   "execution_count": 6,
   "metadata": {
    "collapsed": false
   },
   "outputs": [
    {
     "data": {
      "text/plain": [
       "Index([u'OBJECTID', u'SCHOOL_YEAR', u'SCHOOL_WARD', u'SCHOOL_CODE',\n",
       "       u'SCHOOL_NAME', u'LEA_CODE', u'LEA_NAME', u'ASSESSMENT_TYPE',\n",
       "       u'SUBJECT', u'TESTED_GRADE_SUBJECT', u'GRADE_OF_ENROLLMENT',\n",
       "       u'SUBGROUP', u'SUBGROUP_VALUE', u'PERCENT_MEETING_OR_EXCEEDING_E',\n",
       "       u'PERCENT_LEVEL_3_', u'PERCENT_LEVEL_1', u'PERCENT_LEVEL_2',\n",
       "       u'PERCENT_LEVEL_3', u'PERCENT_LEVEL_4', u'PERCENT_LEVEL_5',\n",
       "       u'TOTAL_NUMBER_VALID_TEST_TAKERS'],\n",
       "      dtype='object')"
      ]
     },
     "execution_count": 6,
     "metadata": {},
     "output_type": "execute_result"
    }
   ],
   "source": [
    "df.columns"
   ]
  },
  {
   "cell_type": "code",
   "execution_count": 7,
   "metadata": {
    "collapsed": false
   },
   "outputs": [
    {
     "data": {
      "text/plain": [
       "OBJECTID                           int64\n",
       "SCHOOL_YEAR                       object\n",
       "SCHOOL_WARD                       object\n",
       "SCHOOL_CODE                        int64\n",
       "SCHOOL_NAME                       object\n",
       "LEA_CODE                           int64\n",
       "LEA_NAME                          object\n",
       "ASSESSMENT_TYPE                   object\n",
       "SUBJECT                           object\n",
       "TESTED_GRADE_SUBJECT              object\n",
       "GRADE_OF_ENROLLMENT               object\n",
       "SUBGROUP                          object\n",
       "SUBGROUP_VALUE                    object\n",
       "PERCENT_MEETING_OR_EXCEEDING_E    object\n",
       "PERCENT_LEVEL_3_                  object\n",
       "PERCENT_LEVEL_1                   object\n",
       "PERCENT_LEVEL_2                   object\n",
       "PERCENT_LEVEL_3                   object\n",
       "PERCENT_LEVEL_4                   object\n",
       "PERCENT_LEVEL_5                   object\n",
       "TOTAL_NUMBER_VALID_TEST_TAKERS    object\n",
       "dtype: object"
      ]
     },
     "execution_count": 7,
     "metadata": {},
     "output_type": "execute_result"
    }
   ],
   "source": [
    "df.dtypes"
   ]
  },
  {
   "cell_type": "markdown",
   "metadata": {},
   "source": [
    "Let's understand what the various columns contain."
   ]
  },
  {
   "cell_type": "code",
   "execution_count": 8,
   "metadata": {
    "collapsed": false
   },
   "outputs": [
    {
     "data": {
      "text/plain": [
       "189364"
      ]
     },
     "execution_count": 8,
     "metadata": {},
     "output_type": "execute_result"
    }
   ],
   "source": [
    "len(df.OBJECTID.unique())"
   ]
  },
  {
   "cell_type": "markdown",
   "metadata": {},
   "source": [
    "OBJECTID is most likely the unique identifier for each row."
   ]
  },
  {
   "cell_type": "code",
   "execution_count": 9,
   "metadata": {
    "collapsed": false
   },
   "outputs": [
    {
     "data": {
      "text/plain": [
       "2016-17    78701\n",
       "2015-16    56244\n",
       "2014-15    54419\n",
       "Name: SCHOOL_YEAR, dtype: int64"
      ]
     },
     "execution_count": 9,
     "metadata": {},
     "output_type": "execute_result"
    }
   ],
   "source": [
    "df.SCHOOL_YEAR.value_counts()"
   ]
  },
  {
   "cell_type": "markdown",
   "metadata": {},
   "source": [
    "The data set contains 3 school years worth of data. For my analysis I will only look at the most recent school year of 2016-2017."
   ]
  },
  {
   "cell_type": "code",
   "execution_count": 10,
   "metadata": {
    "collapsed": false
   },
   "outputs": [
    {
     "data": {
      "text/plain": [
       "Ward 4    37018\n",
       "Ward 5    34136\n",
       "Ward 6    29930\n",
       "Ward 7    22724\n",
       "Ward 8    20980\n",
       "Ward 1    18303\n",
       "Ward 3    13839\n",
       "Ward 2    12218\n",
       "Name: SCHOOL_WARD, dtype: int64"
      ]
     },
     "execution_count": 10,
     "metadata": {},
     "output_type": "execute_result"
    }
   ],
   "source": [
    "df.SCHOOL_WARD.value_counts()"
   ]
  },
  {
   "cell_type": "markdown",
   "metadata": {},
   "source": [
    "There are 8 wards."
   ]
  },
  {
   "cell_type": "code",
   "execution_count": 11,
   "metadata": {
    "collapsed": false
   },
   "outputs": [
    {
     "data": {
      "text/plain": [
       "218"
      ]
     },
     "execution_count": 11,
     "metadata": {},
     "output_type": "execute_result"
    }
   ],
   "source": [
    "len(df.SCHOOL_CODE.unique())"
   ]
  },
  {
   "cell_type": "code",
   "execution_count": 12,
   "metadata": {
    "collapsed": false
   },
   "outputs": [
    {
     "data": {
      "text/plain": [
       "218"
      ]
     },
     "execution_count": 12,
     "metadata": {},
     "output_type": "execute_result"
    }
   ],
   "source": [
    "len(df.SCHOOL_NAME.unique())"
   ]
  },
  {
   "cell_type": "markdown",
   "metadata": {},
   "source": [
    "Probably a given `SCHOOL_CODE` corresponds to a unique `SCHOOL_NAME`. That makes sense."
   ]
  },
  {
   "cell_type": "markdown",
   "metadata": {},
   "source": [
    "LEA stands for \"Local Education Agency.\" (https://osse.dc.gov/parcc) From the DC government website, LEA is  \n",
    "*\"An entity that operates public elementary and secondary schools. DCPS is its own LEA and each charter network is its own LEA. Each LEA creates its own set of policies and helps ensure the on-the-ground implementation of federal and state policies.\"* (https://sboe.dc.gov/page/key-terms-know-dc-public-education-enrollment)"
   ]
  },
  {
   "cell_type": "code",
   "execution_count": 13,
   "metadata": {
    "collapsed": false
   },
   "outputs": [
    {
     "data": {
      "text/plain": [
       "1       107956\n",
       "156       8205\n",
       "120       7913\n",
       "129       7505\n",
       "116       3395\n",
       "108       3290\n",
       "115       3182\n",
       "109       2856\n",
       "151       2455\n",
       "149       2142\n",
       "121       2126\n",
       "168       2102\n",
       "143       1916\n",
       "181       1803\n",
       "165       1733\n",
       "135       1696\n",
       "138       1434\n",
       "155       1382\n",
       "125       1332\n",
       "132       1272\n",
       "153       1246\n",
       "160       1136\n",
       "127       1130\n",
       "169       1062\n",
       "114       1018\n",
       "130        994\n",
       "144        992\n",
       "124        966\n",
       "113        964\n",
       "142        914\n",
       "171        894\n",
       "175        886\n",
       "179        812\n",
       "188        808\n",
       "158        786\n",
       "170        724\n",
       "185        640\n",
       "139        618\n",
       "117        578\n",
       "186        554\n",
       "107        548\n",
       "167        532\n",
       "166        492\n",
       "180        480\n",
       "140        472\n",
       "146        336\n",
       "126        326\n",
       "152        308\n",
       "147        300\n",
       "137        273\n",
       "163        260\n",
       "118        260\n",
       "133        252\n",
       "184        220\n",
       "4002       216\n",
       "174        192\n",
       "177        168\n",
       "173        132\n",
       "122        108\n",
       "190         72\n",
       "Name: LEA_CODE, dtype: int64"
      ]
     },
     "execution_count": 13,
     "metadata": {},
     "output_type": "execute_result"
    }
   ],
   "source": [
    "df.LEA_CODE.value_counts()"
   ]
  },
  {
   "cell_type": "code",
   "execution_count": 14,
   "metadata": {
    "collapsed": false
   },
   "outputs": [
    {
     "data": {
      "text/plain": [
       "60"
      ]
     },
     "execution_count": 14,
     "metadata": {},
     "output_type": "execute_result"
    }
   ],
   "source": [
    "len(df.LEA_CODE.unique())"
   ]
  },
  {
   "cell_type": "code",
   "execution_count": 15,
   "metadata": {
    "collapsed": false
   },
   "outputs": [
    {
     "data": {
      "text/plain": [
       "60"
      ]
     },
     "execution_count": 15,
     "metadata": {},
     "output_type": "execute_result"
    }
   ],
   "source": [
    "len(df.LEA_NAME.unique())"
   ]
  },
  {
   "cell_type": "markdown",
   "metadata": {},
   "source": [
    "There are 60 unique LEA codes and names. Probably the LEA codes and names are one-to-one and onto. Let's check this with LEA code 1."
   ]
  },
  {
   "cell_type": "code",
   "execution_count": 16,
   "metadata": {
    "collapsed": false
   },
   "outputs": [
    {
     "data": {
      "text/plain": [
       "District of Columbia Public Schools    107956\n",
       "Name: LEA_NAME, dtype: int64"
      ]
     },
     "execution_count": 16,
     "metadata": {},
     "output_type": "execute_result"
    }
   ],
   "source": [
    "df[df.LEA_CODE == 1].LEA_NAME.value_counts()"
   ]
  },
  {
   "cell_type": "markdown",
   "metadata": {},
   "source": [
    "Yes, LEA code 1 corresponds to the DC Public School.\n",
    "\n",
    "So most likely the LEA code collapses all DC Public Schools into a single group and keeps all other school in their own group. So these features are similar to `SCHOOL_CODE` and `SCHOOL_NAME` so we don't need to use both sets of features."
   ]
  },
  {
   "cell_type": "code",
   "execution_count": 17,
   "metadata": {
    "collapsed": false
   },
   "outputs": [
    {
     "data": {
      "text/plain": [
       "All      89434\n",
       "PARCC    87464\n",
       "MSAA     12466\n",
       "Name: ASSESSMENT_TYPE, dtype: int64"
      ]
     },
     "execution_count": 17,
     "metadata": {},
     "output_type": "execute_result"
    }
   ],
   "source": [
    "df.ASSESSMENT_TYPE.value_counts()"
   ]
  },
  {
   "cell_type": "markdown",
   "metadata": {},
   "source": [
    "We have two different assessment types: PARCC and MSAA. PARCC stands for \"Partnership for Assessment of Readiness for College and Careers\" and MSAA stands for \"Multi-State Alternate Assessment.\"\n",
    "\n",
    "We know that MSAA is scored from 1 to 4, and PARCC is scored from 1 to 5 (http://results.osse.dc.gov/glossary). Let's make sure there are no values in `PERCENT_LEVEL_5` for MSAA."
   ]
  },
  {
   "cell_type": "code",
   "execution_count": 18,
   "metadata": {
    "collapsed": false
   },
   "outputs": [
    {
     "data": {
      "text/plain": [
       "650    NaN\n",
       "651    NaN\n",
       "652    NaN\n",
       "861    NaN\n",
       "862    NaN\n",
       "Name: PERCENT_LEVEL_5, dtype: object"
      ]
     },
     "execution_count": 18,
     "metadata": {},
     "output_type": "execute_result"
    }
   ],
   "source": [
    "df[df.ASSESSMENT_TYPE == 'MSAA'].PERCENT_LEVEL_5.head()"
   ]
  },
  {
   "cell_type": "code",
   "execution_count": 19,
   "metadata": {
    "collapsed": false
   },
   "outputs": [
    {
     "data": {
      "text/plain": [
       "NaN    12466\n",
       "Name: PERCENT_LEVEL_5, dtype: int64"
      ]
     },
     "execution_count": 19,
     "metadata": {},
     "output_type": "execute_result"
    }
   ],
   "source": [
    "df[df.ASSESSMENT_TYPE == 'MSAA'].PERCENT_LEVEL_5.value_counts(dropna=False)"
   ]
  },
  {
   "cell_type": "markdown",
   "metadata": {},
   "source": [
    "Indeed there is no value for `PERCENT_LEVEL_5` for MSAA."
   ]
  },
  {
   "cell_type": "code",
   "execution_count": 20,
   "metadata": {
    "collapsed": false
   },
   "outputs": [
    {
     "data": {
      "text/plain": [
       "Math    105643\n",
       "ELA      83721\n",
       "Name: SUBJECT, dtype: int64"
      ]
     },
     "execution_count": 20,
     "metadata": {},
     "output_type": "execute_result"
    }
   ],
   "source": [
    "df.SUBJECT.value_counts()"
   ]
  },
  {
   "cell_type": "markdown",
   "metadata": {},
   "source": [
    "There are only two subjects. ELA stands for 'English Language Arts' (https://osse.dc.gov/parcc)."
   ]
  },
  {
   "cell_type": "code",
   "execution_count": 21,
   "metadata": {
    "collapsed": false
   },
   "outputs": [
    {
     "data": {
      "text/plain": [
       "All             53290\n",
       "Grade 3         22223\n",
       "Grade 4         21222\n",
       "Grade 5         20939\n",
       "Grades 3-8      18064\n",
       "Grade 6         13091\n",
       "Grade 7         12492\n",
       "Grade 8         11570\n",
       "Grades 9-12      4203\n",
       "Geometry         3964\n",
       "Algebra I        3564\n",
       "English II       3358\n",
       "Grade 11          920\n",
       "Algebra II        252\n",
       "Integrated M      188\n",
       "English I          24\n",
       "Name: TESTED_GRADE_SUBJECT, dtype: int64"
      ]
     },
     "execution_count": 21,
     "metadata": {},
     "output_type": "execute_result"
    }
   ],
   "source": [
    "df.TESTED_GRADE_SUBJECT.value_counts()"
   ]
  },
  {
   "cell_type": "markdown",
   "metadata": {},
   "source": [
    "If we want to understand the effect of `TESTED_GRADE_SUBJECT` on the outcome, I should remove the `All` values."
   ]
  },
  {
   "cell_type": "code",
   "execution_count": 22,
   "metadata": {
    "collapsed": false
   },
   "outputs": [
    {
     "data": {
      "text/plain": [
       "All        169940\n",
       "Grade 8     10369\n",
       "Grade 7      9055\n",
       "Name: GRADE_OF_ENROLLMENT, dtype: int64"
      ]
     },
     "execution_count": 22,
     "metadata": {},
     "output_type": "execute_result"
    }
   ],
   "source": [
    "df.GRADE_OF_ENROLLMENT.value_counts()"
   ]
  },
  {
   "cell_type": "markdown",
   "metadata": {},
   "source": [
    "I don't care about the grade of enrollment, so I should subset the `All` rows. Plus, it seems strange that only grades 7 and 8 are present. Given that many other grades are present in the `TESTED_GRADE_SUBJECT`, there should really be more values present."
   ]
  },
  {
   "cell_type": "code",
   "execution_count": 23,
   "metadata": {
    "collapsed": false
   },
   "outputs": [
    {
     "data": {
      "text/plain": [
       "Race by Gender      62351\n",
       "Special Programs    48142\n",
       "Race/Ethnicity      36903\n",
       "Gender              26330\n",
       "All                 15638\n",
       "Name: SUBGROUP, dtype: int64"
      ]
     },
     "execution_count": 23,
     "metadata": {},
     "output_type": "execute_result"
    }
   ],
   "source": [
    "df.SUBGROUP.value_counts()"
   ]
  },
  {
   "cell_type": "markdown",
   "metadata": {},
   "source": [
    "We see that there are 5 different subgroups. I would really like to have a breakdown by race, gender and special programs simultaneously so that I can account for all of them, but unfortunately the data is only provided in these slices. So for modeling, I can only choose one of the options."
   ]
  },
  {
   "cell_type": "code",
   "execution_count": 24,
   "metadata": {
    "collapsed": false
   },
   "outputs": [
    {
     "data": {
      "text/plain": [
       "All                                        15638\n",
       "Economically Disadvantaged                 13576\n",
       "Black/African American                     13514\n",
       "Male                                       13250\n",
       "Active or Monitored Special Education      13174\n",
       "At-Risk                                    13107\n",
       "Female                                     13080\n",
       "Male-Black/African American                13067\n",
       "Female-Black/African American              12845\n",
       "Hispanic/Latino                             9395\n",
       "Active or Monitored English Learner         8285\n",
       "Male-Hispanic/Latino                        8117\n",
       "Female-Hispanic/Latino                      7758\n",
       "White/Caucasian                             4568\n",
       "Two or More Races                           4348\n",
       "Male-White/Caucasian                        3731\n",
       "Female-White/Caucasian                      3494\n",
       "Asian                                       3418\n",
       "Female-Two or More Races                    3264\n",
       "Male-Two or More Races                      3204\n",
       "Male-Asian                                  2601\n",
       "Female-Asian                                2398\n",
       "Pacific Islander/Native Hawaiian             858\n",
       "American Indian/Alaskan Native               802\n",
       "Female-Pacific Islander/Native Hawaiian      498\n",
       "Male-Pacific Islander/Native Hawaiian        488\n",
       "Female-American Indian/Alaskan Native        444\n",
       "Male-American Indian/Alaskan Native          442\n",
       "Name: SUBGROUP_VALUE, dtype: int64"
      ]
     },
     "execution_count": 24,
     "metadata": {},
     "output_type": "execute_result"
    }
   ],
   "source": [
    "df.SUBGROUP_VALUE.value_counts()"
   ]
  },
  {
   "cell_type": "markdown",
   "metadata": {},
   "source": [
    "There are many subgroup values, probably corresponding to the different subgroups."
   ]
  },
  {
   "cell_type": "code",
   "execution_count": 25,
   "metadata": {
    "collapsed": false
   },
   "outputs": [
    {
     "data": {
      "text/plain": [
       "Male-Black/African American                13067\n",
       "Female-Black/African American              12845\n",
       "Male-Hispanic/Latino                        8117\n",
       "Female-Hispanic/Latino                      7758\n",
       "Male-White/Caucasian                        3731\n",
       "Female-White/Caucasian                      3494\n",
       "Female-Two or More Races                    3264\n",
       "Male-Two or More Races                      3204\n",
       "Male-Asian                                  2601\n",
       "Female-Asian                                2398\n",
       "Female-Pacific Islander/Native Hawaiian      498\n",
       "Male-Pacific Islander/Native Hawaiian        488\n",
       "Female-American Indian/Alaskan Native        444\n",
       "Male-American Indian/Alaskan Native          442\n",
       "Name: SUBGROUP_VALUE, dtype: int64"
      ]
     },
     "execution_count": 25,
     "metadata": {},
     "output_type": "execute_result"
    }
   ],
   "source": [
    "df[df.SUBGROUP == 'Race by Gender'].SUBGROUP_VALUE.value_counts()"
   ]
  },
  {
   "cell_type": "code",
   "execution_count": 26,
   "metadata": {
    "collapsed": false
   },
   "outputs": [
    {
     "data": {
      "text/plain": [
       "Economically Disadvantaged               13576\n",
       "Active or Monitored Special Education    13174\n",
       "At-Risk                                  13107\n",
       "Active or Monitored English Learner       8285\n",
       "Name: SUBGROUP_VALUE, dtype: int64"
      ]
     },
     "execution_count": 26,
     "metadata": {},
     "output_type": "execute_result"
    }
   ],
   "source": [
    "df[df.SUBGROUP == 'Special Programs'].SUBGROUP_VALUE.value_counts()"
   ]
  },
  {
   "cell_type": "code",
   "execution_count": 27,
   "metadata": {
    "collapsed": false
   },
   "outputs": [
    {
     "data": {
      "text/plain": [
       "Black/African American              13514\n",
       "Hispanic/Latino                      9395\n",
       "White/Caucasian                      4568\n",
       "Two or More Races                    4348\n",
       "Asian                                3418\n",
       "Pacific Islander/Native Hawaiian      858\n",
       "American Indian/Alaskan Native        802\n",
       "Name: SUBGROUP_VALUE, dtype: int64"
      ]
     },
     "execution_count": 27,
     "metadata": {},
     "output_type": "execute_result"
    }
   ],
   "source": [
    "df[df.SUBGROUP == 'Race/Ethnicity'].SUBGROUP_VALUE.value_counts()"
   ]
  },
  {
   "cell_type": "code",
   "execution_count": 28,
   "metadata": {
    "collapsed": false
   },
   "outputs": [
    {
     "data": {
      "text/plain": [
       "Male      13250\n",
       "Female    13080\n",
       "Name: SUBGROUP_VALUE, dtype: int64"
      ]
     },
     "execution_count": 28,
     "metadata": {},
     "output_type": "execute_result"
    }
   ],
   "source": [
    "df[df.SUBGROUP == 'Gender'].SUBGROUP_VALUE.value_counts()"
   ]
  },
  {
   "cell_type": "code",
   "execution_count": 29,
   "metadata": {
    "collapsed": false
   },
   "outputs": [
    {
     "data": {
      "text/plain": [
       "All    15638\n",
       "Name: SUBGROUP_VALUE, dtype: int64"
      ]
     },
     "execution_count": 29,
     "metadata": {},
     "output_type": "execute_result"
    }
   ],
   "source": [
    "df[df.SUBGROUP == 'All'].SUBGROUP_VALUE.value_counts()"
   ]
  },
  {
   "cell_type": "markdown",
   "metadata": {},
   "source": [
    "All these values seem to make sense."
   ]
  },
  {
   "cell_type": "markdown",
   "metadata": {},
   "source": [
    "# Feature selection and engineering"
   ]
  },
  {
   "cell_type": "markdown",
   "metadata": {},
   "source": [
    "Now that we have some understanding of the raw data, let's do some feature selection and engineering.\n",
    "\n",
    "Let's recall the columns in the data set."
   ]
  },
  {
   "cell_type": "code",
   "execution_count": 30,
   "metadata": {
    "collapsed": false
   },
   "outputs": [
    {
     "data": {
      "text/plain": [
       "Index([u'OBJECTID', u'SCHOOL_YEAR', u'SCHOOL_WARD', u'SCHOOL_CODE',\n",
       "       u'SCHOOL_NAME', u'LEA_CODE', u'LEA_NAME', u'ASSESSMENT_TYPE',\n",
       "       u'SUBJECT', u'TESTED_GRADE_SUBJECT', u'GRADE_OF_ENROLLMENT',\n",
       "       u'SUBGROUP', u'SUBGROUP_VALUE', u'PERCENT_MEETING_OR_EXCEEDING_E',\n",
       "       u'PERCENT_LEVEL_3_', u'PERCENT_LEVEL_1', u'PERCENT_LEVEL_2',\n",
       "       u'PERCENT_LEVEL_3', u'PERCENT_LEVEL_4', u'PERCENT_LEVEL_5',\n",
       "       u'TOTAL_NUMBER_VALID_TEST_TAKERS'],\n",
       "      dtype='object')"
      ]
     },
     "execution_count": 30,
     "metadata": {},
     "output_type": "execute_result"
    }
   ],
   "source": [
    "df.columns"
   ]
  },
  {
   "cell_type": "markdown",
   "metadata": {},
   "source": [
    "Just select the most recent school year."
   ]
  },
  {
   "cell_type": "code",
   "execution_count": 31,
   "metadata": {
    "collapsed": true
   },
   "outputs": [],
   "source": [
    "df_feat = df[df.SCHOOL_YEAR == '2016-17']"
   ]
  },
  {
   "cell_type": "markdown",
   "metadata": {},
   "source": [
    "If we want to take the average score and predict based on that, we should just use data from either PARCC or MSAA, not both. Since there appear to be more data for PARCC, let's subset that."
   ]
  },
  {
   "cell_type": "code",
   "execution_count": 32,
   "metadata": {
    "collapsed": true
   },
   "outputs": [],
   "source": [
    "df_feat = df_feat[df_feat.ASSESSMENT_TYPE != 'MSAA']"
   ]
  },
  {
   "cell_type": "markdown",
   "metadata": {},
   "source": [
    "The percentage levels represent the fraction of students in that group that scored in a particular range. The levels are given as follows.\n",
    "\n",
    "PARCC performance levels:  \n",
    "* Level 1: Did not yet meet expectations\n",
    "* Level 2: Partially met expectations\n",
    "* Level 3: Approached expectations\n",
    "* Level 4: Met expectations\n",
    "* Level 5: Exceeded expectations\n",
    "\n",
    "MSAA performance levels:  \n",
    "* Level 1: Did not yet meet expectations\n",
    "* Level 2: Partially met expectations\n",
    "* Level 3: Met expectations\n",
    "* Level 4: Exceeded expectations\n",
    "\n",
    "Levels 4 and above are considered to be meeting or exceeding expectations.\n",
    "\n",
    "Let's drop all rows that have any NaNs. The NaNs exist in the percentage columns. "
   ]
  },
  {
   "cell_type": "code",
   "execution_count": 33,
   "metadata": {
    "collapsed": true
   },
   "outputs": [],
   "source": [
    "df_feat = df_feat.dropna()"
   ]
  },
  {
   "cell_type": "code",
   "execution_count": 34,
   "metadata": {
    "collapsed": false
   },
   "outputs": [
    {
     "data": {
      "text/html": [
       "<div>\n",
       "<style scoped>\n",
       "    .dataframe tbody tr th:only-of-type {\n",
       "        vertical-align: middle;\n",
       "    }\n",
       "\n",
       "    .dataframe tbody tr th {\n",
       "        vertical-align: top;\n",
       "    }\n",
       "\n",
       "    .dataframe thead th {\n",
       "        text-align: right;\n",
       "    }\n",
       "</style>\n",
       "<table border=\"1\" class=\"dataframe\">\n",
       "  <thead>\n",
       "    <tr style=\"text-align: right;\">\n",
       "      <th></th>\n",
       "      <th>OBJECTID</th>\n",
       "      <th>SCHOOL_YEAR</th>\n",
       "      <th>SCHOOL_WARD</th>\n",
       "      <th>SCHOOL_CODE</th>\n",
       "      <th>SCHOOL_NAME</th>\n",
       "      <th>LEA_CODE</th>\n",
       "      <th>LEA_NAME</th>\n",
       "      <th>ASSESSMENT_TYPE</th>\n",
       "      <th>SUBJECT</th>\n",
       "      <th>TESTED_GRADE_SUBJECT</th>\n",
       "      <th>...</th>\n",
       "      <th>SUBGROUP</th>\n",
       "      <th>SUBGROUP_VALUE</th>\n",
       "      <th>PERCENT_MEETING_OR_EXCEEDING_E</th>\n",
       "      <th>PERCENT_LEVEL_3_</th>\n",
       "      <th>PERCENT_LEVEL_1</th>\n",
       "      <th>PERCENT_LEVEL_2</th>\n",
       "      <th>PERCENT_LEVEL_3</th>\n",
       "      <th>PERCENT_LEVEL_4</th>\n",
       "      <th>PERCENT_LEVEL_5</th>\n",
       "      <th>TOTAL_NUMBER_VALID_TEST_TAKERS</th>\n",
       "    </tr>\n",
       "  </thead>\n",
       "  <tbody>\n",
       "    <tr>\n",
       "      <th>104000</th>\n",
       "      <td>105405</td>\n",
       "      <td>2016-17</td>\n",
       "      <td>Ward 8</td>\n",
       "      <td>217</td>\n",
       "      <td>Achievement Preparatory Academy PCS Wahler Pla...</td>\n",
       "      <td>155</td>\n",
       "      <td>Achievement Preparatory Academy PCS</td>\n",
       "      <td>PARCC</td>\n",
       "      <td>ELA</td>\n",
       "      <td>Grades 3-8</td>\n",
       "      <td>...</td>\n",
       "      <td>Special Programs</td>\n",
       "      <td>At-Risk</td>\n",
       "      <td>9.8%</td>\n",
       "      <td>34.1%</td>\n",
       "      <td>48.8%</td>\n",
       "      <td>17.1%</td>\n",
       "      <td>24.4%</td>\n",
       "      <td>9.8%</td>\n",
       "      <td>0.0%</td>\n",
       "      <td>41</td>\n",
       "    </tr>\n",
       "    <tr>\n",
       "      <th>104001</th>\n",
       "      <td>105406</td>\n",
       "      <td>2016-17</td>\n",
       "      <td>Ward 8</td>\n",
       "      <td>217</td>\n",
       "      <td>Achievement Preparatory Academy PCS Wahler Pla...</td>\n",
       "      <td>155</td>\n",
       "      <td>Achievement Preparatory Academy PCS</td>\n",
       "      <td>PARCC</td>\n",
       "      <td>ELA</td>\n",
       "      <td>Grades 3-8</td>\n",
       "      <td>...</td>\n",
       "      <td>Special Programs</td>\n",
       "      <td>Economically Disadvantaged</td>\n",
       "      <td>9.9%</td>\n",
       "      <td>40.8%</td>\n",
       "      <td>39.4%</td>\n",
       "      <td>19.7%</td>\n",
       "      <td>31.0%</td>\n",
       "      <td>9.9%</td>\n",
       "      <td>0.0%</td>\n",
       "      <td>71</td>\n",
       "    </tr>\n",
       "    <tr>\n",
       "      <th>104386</th>\n",
       "      <td>105728</td>\n",
       "      <td>2016-17</td>\n",
       "      <td>Ward 8</td>\n",
       "      <td>217</td>\n",
       "      <td>Achievement Preparatory Academy PCS Wahler Pla...</td>\n",
       "      <td>155</td>\n",
       "      <td>Achievement Preparatory Academy PCS</td>\n",
       "      <td>PARCC</td>\n",
       "      <td>ELA</td>\n",
       "      <td>All</td>\n",
       "      <td>...</td>\n",
       "      <td>Race/Ethnicity</td>\n",
       "      <td>Two or More Races</td>\n",
       "      <td>n&lt;25</td>\n",
       "      <td>n&lt;25</td>\n",
       "      <td>n&lt;25</td>\n",
       "      <td>n&lt;25</td>\n",
       "      <td>n&lt;25</td>\n",
       "      <td>n&lt;25</td>\n",
       "      <td>n&lt;25</td>\n",
       "      <td>n&lt;25</td>\n",
       "    </tr>\n",
       "    <tr>\n",
       "      <th>104387</th>\n",
       "      <td>105729</td>\n",
       "      <td>2016-17</td>\n",
       "      <td>Ward 8</td>\n",
       "      <td>217</td>\n",
       "      <td>Achievement Preparatory Academy PCS Wahler Pla...</td>\n",
       "      <td>155</td>\n",
       "      <td>Achievement Preparatory Academy PCS</td>\n",
       "      <td>PARCC</td>\n",
       "      <td>ELA</td>\n",
       "      <td>All</td>\n",
       "      <td>...</td>\n",
       "      <td>Race/Ethnicity</td>\n",
       "      <td>White/Caucasian</td>\n",
       "      <td>n&lt;25</td>\n",
       "      <td>n&lt;25</td>\n",
       "      <td>n&lt;25</td>\n",
       "      <td>n&lt;25</td>\n",
       "      <td>n&lt;25</td>\n",
       "      <td>n&lt;25</td>\n",
       "      <td>n&lt;25</td>\n",
       "      <td>n&lt;25</td>\n",
       "    </tr>\n",
       "    <tr>\n",
       "      <th>104388</th>\n",
       "      <td>105730</td>\n",
       "      <td>2016-17</td>\n",
       "      <td>Ward 8</td>\n",
       "      <td>217</td>\n",
       "      <td>Achievement Preparatory Academy PCS Wahler Pla...</td>\n",
       "      <td>155</td>\n",
       "      <td>Achievement Preparatory Academy PCS</td>\n",
       "      <td>PARCC</td>\n",
       "      <td>ELA</td>\n",
       "      <td>All</td>\n",
       "      <td>...</td>\n",
       "      <td>Special Programs</td>\n",
       "      <td>Active or Monitored Special Education</td>\n",
       "      <td>n&lt;25</td>\n",
       "      <td>n&lt;25</td>\n",
       "      <td>n&lt;25</td>\n",
       "      <td>n&lt;25</td>\n",
       "      <td>n&lt;25</td>\n",
       "      <td>n&lt;25</td>\n",
       "      <td>n&lt;25</td>\n",
       "      <td>n&lt;25</td>\n",
       "    </tr>\n",
       "  </tbody>\n",
       "</table>\n",
       "<p>5 rows × 21 columns</p>\n",
       "</div>"
      ],
      "text/plain": [
       "        OBJECTID SCHOOL_YEAR SCHOOL_WARD  SCHOOL_CODE  \\\n",
       "104000    105405     2016-17      Ward 8          217   \n",
       "104001    105406     2016-17      Ward 8          217   \n",
       "104386    105728     2016-17      Ward 8          217   \n",
       "104387    105729     2016-17      Ward 8          217   \n",
       "104388    105730     2016-17      Ward 8          217   \n",
       "\n",
       "                                              SCHOOL_NAME  LEA_CODE  \\\n",
       "104000  Achievement Preparatory Academy PCS Wahler Pla...       155   \n",
       "104001  Achievement Preparatory Academy PCS Wahler Pla...       155   \n",
       "104386  Achievement Preparatory Academy PCS Wahler Pla...       155   \n",
       "104387  Achievement Preparatory Academy PCS Wahler Pla...       155   \n",
       "104388  Achievement Preparatory Academy PCS Wahler Pla...       155   \n",
       "\n",
       "                                   LEA_NAME ASSESSMENT_TYPE SUBJECT  \\\n",
       "104000  Achievement Preparatory Academy PCS           PARCC     ELA   \n",
       "104001  Achievement Preparatory Academy PCS           PARCC     ELA   \n",
       "104386  Achievement Preparatory Academy PCS           PARCC     ELA   \n",
       "104387  Achievement Preparatory Academy PCS           PARCC     ELA   \n",
       "104388  Achievement Preparatory Academy PCS           PARCC     ELA   \n",
       "\n",
       "       TESTED_GRADE_SUBJECT              ...                        SUBGROUP  \\\n",
       "104000           Grades 3-8              ...                Special Programs   \n",
       "104001           Grades 3-8              ...                Special Programs   \n",
       "104386                  All              ...                  Race/Ethnicity   \n",
       "104387                  All              ...                  Race/Ethnicity   \n",
       "104388                  All              ...                Special Programs   \n",
       "\n",
       "                               SUBGROUP_VALUE PERCENT_MEETING_OR_EXCEEDING_E  \\\n",
       "104000                                At-Risk                           9.8%   \n",
       "104001             Economically Disadvantaged                           9.9%   \n",
       "104386                      Two or More Races                           n<25   \n",
       "104387                        White/Caucasian                           n<25   \n",
       "104388  Active or Monitored Special Education                           n<25   \n",
       "\n",
       "       PERCENT_LEVEL_3_ PERCENT_LEVEL_1 PERCENT_LEVEL_2 PERCENT_LEVEL_3  \\\n",
       "104000            34.1%           48.8%           17.1%           24.4%   \n",
       "104001            40.8%           39.4%           19.7%           31.0%   \n",
       "104386             n<25            n<25            n<25            n<25   \n",
       "104387             n<25            n<25            n<25            n<25   \n",
       "104388             n<25            n<25            n<25            n<25   \n",
       "\n",
       "       PERCENT_LEVEL_4 PERCENT_LEVEL_5 TOTAL_NUMBER_VALID_TEST_TAKERS  \n",
       "104000            9.8%            0.0%                             41  \n",
       "104001            9.9%            0.0%                             71  \n",
       "104386            n<25            n<25                           n<25  \n",
       "104387            n<25            n<25                           n<25  \n",
       "104388            n<25            n<25                           n<25  \n",
       "\n",
       "[5 rows x 21 columns]"
      ]
     },
     "execution_count": 34,
     "metadata": {},
     "output_type": "execute_result"
    }
   ],
   "source": [
    "df_feat.head()"
   ]
  },
  {
   "cell_type": "markdown",
   "metadata": {},
   "source": [
    "We should also drop rows that have \"n<25\" since we can't quantitatively do much with that. This is so that individual students cannot be identified in that subset. (http://results.osse.dc.gov/glossary)"
   ]
  },
  {
   "cell_type": "code",
   "execution_count": 35,
   "metadata": {
    "collapsed": true
   },
   "outputs": [],
   "source": [
    "df_feat = df_feat[df_feat.TOTAL_NUMBER_VALID_TEST_TAKERS != 'n<25']"
   ]
  },
  {
   "cell_type": "code",
   "execution_count": 36,
   "metadata": {
    "collapsed": false
   },
   "outputs": [
    {
     "data": {
      "text/html": [
       "<div>\n",
       "<style scoped>\n",
       "    .dataframe tbody tr th:only-of-type {\n",
       "        vertical-align: middle;\n",
       "    }\n",
       "\n",
       "    .dataframe tbody tr th {\n",
       "        vertical-align: top;\n",
       "    }\n",
       "\n",
       "    .dataframe thead th {\n",
       "        text-align: right;\n",
       "    }\n",
       "</style>\n",
       "<table border=\"1\" class=\"dataframe\">\n",
       "  <thead>\n",
       "    <tr style=\"text-align: right;\">\n",
       "      <th></th>\n",
       "      <th>OBJECTID</th>\n",
       "      <th>SCHOOL_YEAR</th>\n",
       "      <th>SCHOOL_WARD</th>\n",
       "      <th>SCHOOL_CODE</th>\n",
       "      <th>SCHOOL_NAME</th>\n",
       "      <th>LEA_CODE</th>\n",
       "      <th>LEA_NAME</th>\n",
       "      <th>ASSESSMENT_TYPE</th>\n",
       "      <th>SUBJECT</th>\n",
       "      <th>TESTED_GRADE_SUBJECT</th>\n",
       "      <th>...</th>\n",
       "      <th>SUBGROUP</th>\n",
       "      <th>SUBGROUP_VALUE</th>\n",
       "      <th>PERCENT_MEETING_OR_EXCEEDING_E</th>\n",
       "      <th>PERCENT_LEVEL_3_</th>\n",
       "      <th>PERCENT_LEVEL_1</th>\n",
       "      <th>PERCENT_LEVEL_2</th>\n",
       "      <th>PERCENT_LEVEL_3</th>\n",
       "      <th>PERCENT_LEVEL_4</th>\n",
       "      <th>PERCENT_LEVEL_5</th>\n",
       "      <th>TOTAL_NUMBER_VALID_TEST_TAKERS</th>\n",
       "    </tr>\n",
       "  </thead>\n",
       "  <tbody>\n",
       "    <tr>\n",
       "      <th>104000</th>\n",
       "      <td>105405</td>\n",
       "      <td>2016-17</td>\n",
       "      <td>Ward 8</td>\n",
       "      <td>217</td>\n",
       "      <td>Achievement Preparatory Academy PCS Wahler Pla...</td>\n",
       "      <td>155</td>\n",
       "      <td>Achievement Preparatory Academy PCS</td>\n",
       "      <td>PARCC</td>\n",
       "      <td>ELA</td>\n",
       "      <td>Grades 3-8</td>\n",
       "      <td>...</td>\n",
       "      <td>Special Programs</td>\n",
       "      <td>At-Risk</td>\n",
       "      <td>9.8%</td>\n",
       "      <td>34.1%</td>\n",
       "      <td>48.8%</td>\n",
       "      <td>17.1%</td>\n",
       "      <td>24.4%</td>\n",
       "      <td>9.8%</td>\n",
       "      <td>0.0%</td>\n",
       "      <td>41</td>\n",
       "    </tr>\n",
       "    <tr>\n",
       "      <th>104001</th>\n",
       "      <td>105406</td>\n",
       "      <td>2016-17</td>\n",
       "      <td>Ward 8</td>\n",
       "      <td>217</td>\n",
       "      <td>Achievement Preparatory Academy PCS Wahler Pla...</td>\n",
       "      <td>155</td>\n",
       "      <td>Achievement Preparatory Academy PCS</td>\n",
       "      <td>PARCC</td>\n",
       "      <td>ELA</td>\n",
       "      <td>Grades 3-8</td>\n",
       "      <td>...</td>\n",
       "      <td>Special Programs</td>\n",
       "      <td>Economically Disadvantaged</td>\n",
       "      <td>9.9%</td>\n",
       "      <td>40.8%</td>\n",
       "      <td>39.4%</td>\n",
       "      <td>19.7%</td>\n",
       "      <td>31.0%</td>\n",
       "      <td>9.9%</td>\n",
       "      <td>0.0%</td>\n",
       "      <td>71</td>\n",
       "    </tr>\n",
       "    <tr>\n",
       "      <th>104655</th>\n",
       "      <td>105865</td>\n",
       "      <td>2016-17</td>\n",
       "      <td>Ward 8</td>\n",
       "      <td>217</td>\n",
       "      <td>Achievement Preparatory Academy PCS Wahler Pla...</td>\n",
       "      <td>155</td>\n",
       "      <td>Achievement Preparatory Academy PCS</td>\n",
       "      <td>PARCC</td>\n",
       "      <td>ELA</td>\n",
       "      <td>All</td>\n",
       "      <td>...</td>\n",
       "      <td>Special Programs</td>\n",
       "      <td>At-Risk</td>\n",
       "      <td>9.8%</td>\n",
       "      <td>34.1%</td>\n",
       "      <td>48.8%</td>\n",
       "      <td>17.1%</td>\n",
       "      <td>24.4%</td>\n",
       "      <td>9.8%</td>\n",
       "      <td>0.0%</td>\n",
       "      <td>41</td>\n",
       "    </tr>\n",
       "    <tr>\n",
       "      <th>104656</th>\n",
       "      <td>105866</td>\n",
       "      <td>2016-17</td>\n",
       "      <td>Ward 8</td>\n",
       "      <td>217</td>\n",
       "      <td>Achievement Preparatory Academy PCS Wahler Pla...</td>\n",
       "      <td>155</td>\n",
       "      <td>Achievement Preparatory Academy PCS</td>\n",
       "      <td>PARCC</td>\n",
       "      <td>ELA</td>\n",
       "      <td>All</td>\n",
       "      <td>...</td>\n",
       "      <td>Special Programs</td>\n",
       "      <td>Economically Disadvantaged</td>\n",
       "      <td>9.9%</td>\n",
       "      <td>40.8%</td>\n",
       "      <td>39.4%</td>\n",
       "      <td>19.7%</td>\n",
       "      <td>31.0%</td>\n",
       "      <td>9.9%</td>\n",
       "      <td>0.0%</td>\n",
       "      <td>71</td>\n",
       "    </tr>\n",
       "    <tr>\n",
       "      <th>104715</th>\n",
       "      <td>105880</td>\n",
       "      <td>2016-17</td>\n",
       "      <td>Ward 8</td>\n",
       "      <td>217</td>\n",
       "      <td>Achievement Preparatory Academy PCS Wahler Pla...</td>\n",
       "      <td>155</td>\n",
       "      <td>Achievement Preparatory Academy PCS</td>\n",
       "      <td>PARCC</td>\n",
       "      <td>ELA</td>\n",
       "      <td>Grade 3</td>\n",
       "      <td>...</td>\n",
       "      <td>All</td>\n",
       "      <td>All</td>\n",
       "      <td>9.9%</td>\n",
       "      <td>40.8%</td>\n",
       "      <td>39.4%</td>\n",
       "      <td>19.7%</td>\n",
       "      <td>31.0%</td>\n",
       "      <td>9.9%</td>\n",
       "      <td>0.0%</td>\n",
       "      <td>71</td>\n",
       "    </tr>\n",
       "  </tbody>\n",
       "</table>\n",
       "<p>5 rows × 21 columns</p>\n",
       "</div>"
      ],
      "text/plain": [
       "        OBJECTID SCHOOL_YEAR SCHOOL_WARD  SCHOOL_CODE  \\\n",
       "104000    105405     2016-17      Ward 8          217   \n",
       "104001    105406     2016-17      Ward 8          217   \n",
       "104655    105865     2016-17      Ward 8          217   \n",
       "104656    105866     2016-17      Ward 8          217   \n",
       "104715    105880     2016-17      Ward 8          217   \n",
       "\n",
       "                                              SCHOOL_NAME  LEA_CODE  \\\n",
       "104000  Achievement Preparatory Academy PCS Wahler Pla...       155   \n",
       "104001  Achievement Preparatory Academy PCS Wahler Pla...       155   \n",
       "104655  Achievement Preparatory Academy PCS Wahler Pla...       155   \n",
       "104656  Achievement Preparatory Academy PCS Wahler Pla...       155   \n",
       "104715  Achievement Preparatory Academy PCS Wahler Pla...       155   \n",
       "\n",
       "                                   LEA_NAME ASSESSMENT_TYPE SUBJECT  \\\n",
       "104000  Achievement Preparatory Academy PCS           PARCC     ELA   \n",
       "104001  Achievement Preparatory Academy PCS           PARCC     ELA   \n",
       "104655  Achievement Preparatory Academy PCS           PARCC     ELA   \n",
       "104656  Achievement Preparatory Academy PCS           PARCC     ELA   \n",
       "104715  Achievement Preparatory Academy PCS           PARCC     ELA   \n",
       "\n",
       "       TESTED_GRADE_SUBJECT              ...                        SUBGROUP  \\\n",
       "104000           Grades 3-8              ...                Special Programs   \n",
       "104001           Grades 3-8              ...                Special Programs   \n",
       "104655                  All              ...                Special Programs   \n",
       "104656                  All              ...                Special Programs   \n",
       "104715              Grade 3              ...                             All   \n",
       "\n",
       "                    SUBGROUP_VALUE PERCENT_MEETING_OR_EXCEEDING_E  \\\n",
       "104000                     At-Risk                           9.8%   \n",
       "104001  Economically Disadvantaged                           9.9%   \n",
       "104655                     At-Risk                           9.8%   \n",
       "104656  Economically Disadvantaged                           9.9%   \n",
       "104715                         All                           9.9%   \n",
       "\n",
       "       PERCENT_LEVEL_3_ PERCENT_LEVEL_1 PERCENT_LEVEL_2 PERCENT_LEVEL_3  \\\n",
       "104000            34.1%           48.8%           17.1%           24.4%   \n",
       "104001            40.8%           39.4%           19.7%           31.0%   \n",
       "104655            34.1%           48.8%           17.1%           24.4%   \n",
       "104656            40.8%           39.4%           19.7%           31.0%   \n",
       "104715            40.8%           39.4%           19.7%           31.0%   \n",
       "\n",
       "       PERCENT_LEVEL_4 PERCENT_LEVEL_5 TOTAL_NUMBER_VALID_TEST_TAKERS  \n",
       "104000            9.8%            0.0%                             41  \n",
       "104001            9.9%            0.0%                             71  \n",
       "104655            9.8%            0.0%                             41  \n",
       "104656            9.9%            0.0%                             71  \n",
       "104715            9.9%            0.0%                             71  \n",
       "\n",
       "[5 rows x 21 columns]"
      ]
     },
     "execution_count": 36,
     "metadata": {},
     "output_type": "execute_result"
    }
   ],
   "source": [
    "df_feat.head()"
   ]
  },
  {
   "cell_type": "code",
   "execution_count": 37,
   "metadata": {
    "collapsed": false
   },
   "outputs": [
    {
     "data": {
      "text/plain": [
       "(14069, 21)"
      ]
     },
     "execution_count": 37,
     "metadata": {},
     "output_type": "execute_result"
    }
   ],
   "source": [
    "df_feat.shape"
   ]
  },
  {
   "cell_type": "markdown",
   "metadata": {},
   "source": [
    "It looks like `PERCENT_LEVEL_3_` is the total percentage scoring at level 3 and above. `PERCENTAGE_MEETING_OR_EXCEEDING_E` is the total percentage scoring at level 4 and above."
   ]
  },
  {
   "cell_type": "markdown",
   "metadata": {},
   "source": [
    "We need to convert the percent level values to numbers. So we need to strip the percent sign. Let's make sure all the rows have the same format with a percent sign as the last character."
   ]
  },
  {
   "cell_type": "code",
   "execution_count": 38,
   "metadata": {
    "collapsed": false
   },
   "outputs": [
    {
     "name": "stdout",
     "output_type": "stream",
     "text": [
      "14069\n",
      "14069\n",
      "14069\n",
      "14069\n",
      "14069\n",
      "14069\n",
      "14069\n"
     ]
    }
   ],
   "source": [
    "print sum(df_feat.PERCENT_MEETING_OR_EXCEEDING_E.map(lambda x: x[-1] == '%'))\n",
    "print sum(df_feat.PERCENT_LEVEL_3_.map(lambda x: x[-1] == '%'))\n",
    "print sum(df_feat.PERCENT_LEVEL_1.map(lambda x: x[-1] == '%'))\n",
    "print sum(df_feat.PERCENT_LEVEL_2.map(lambda x: x[-1] == '%'))\n",
    "print sum(df_feat.PERCENT_LEVEL_3.map(lambda x: x[-1] == '%'))\n",
    "print sum(df_feat.PERCENT_LEVEL_4.map(lambda x: x[-1] == '%'))\n",
    "print sum(df_feat.PERCENT_LEVEL_5.map(lambda x: x[-1] == '%'))"
   ]
  },
  {
   "cell_type": "markdown",
   "metadata": {},
   "source": [
    "It looks like all rows have values with a percent sign at the end. So let's get rid of this and convert to a float."
   ]
  },
  {
   "cell_type": "code",
   "execution_count": 39,
   "metadata": {
    "collapsed": false
   },
   "outputs": [],
   "source": [
    "df_feat['passed_percentage'] = df_feat.PERCENT_MEETING_OR_EXCEEDING_E.map(lambda x: float(x[:-1]))\n",
    "df_feat['above_3'] = df_feat.PERCENT_LEVEL_3_.map(lambda x: float(x[:-1]))\n",
    "df_feat['level_1'] = df_feat.PERCENT_LEVEL_1.map(lambda x: float(x[:-1]))\n",
    "df_feat['level_2'] = df_feat.PERCENT_LEVEL_2.map(lambda x: float(x[:-1]))\n",
    "df_feat['level_3'] = df_feat.PERCENT_LEVEL_3.map(lambda x: float(x[:-1]))\n",
    "df_feat['level_4'] = df_feat.PERCENT_LEVEL_4.map(lambda x: float(x[:-1]))\n",
    "df_feat['level_5'] = df_feat.PERCENT_LEVEL_5.map(lambda x: float(x[:-1]))"
   ]
  },
  {
   "cell_type": "markdown",
   "metadata": {},
   "source": [
    "Let's make sure all of the level rows sum to close to 100."
   ]
  },
  {
   "cell_type": "code",
   "execution_count": 40,
   "metadata": {
    "collapsed": true
   },
   "outputs": [],
   "source": [
    "df_feat['total_percentage'] = df_feat.level_1+df_feat.level_2+df_feat.level_3+df_feat.level_4+df_feat.level_5"
   ]
  },
  {
   "cell_type": "code",
   "execution_count": 41,
   "metadata": {
    "collapsed": false
   },
   "outputs": [
    {
     "data": {
      "text/plain": [
       "0"
      ]
     },
     "execution_count": 41,
     "metadata": {},
     "output_type": "execute_result"
    }
   ],
   "source": [
    "len(df_feat[abs(df_feat.total_percentage - 100) > 5])"
   ]
  },
  {
   "cell_type": "markdown",
   "metadata": {},
   "source": [
    "At least none of the sums deviate from a 100 by more than 5."
   ]
  },
  {
   "cell_type": "code",
   "execution_count": 42,
   "metadata": {
    "collapsed": false
   },
   "outputs": [
    {
     "data": {
      "text/plain": [
       "100.0    6825\n",
       "99.9     1549\n",
       "100.1    1538\n",
       "99.9     1112\n",
       "100.0    1009\n",
       "100.0     911\n",
       "100.1     878\n",
       "100.1      69\n",
       "99.9       43\n",
       "100.2      32\n",
       "99.9       28\n",
       "100.1      24\n",
       "99.8       21\n",
       "100.2      16\n",
       "99.8        7\n",
       "99.8        4\n",
       "100.2       2\n",
       "100.0       1\n",
       "Name: total_percentage, dtype: int64"
      ]
     },
     "execution_count": 42,
     "metadata": {},
     "output_type": "execute_result"
    }
   ],
   "source": [
    "df_feat.total_percentage.value_counts()"
   ]
  },
  {
   "cell_type": "markdown",
   "metadata": {},
   "source": [
    "It looks like the largest deviation is by about 0.2 percent, which is a reasonable rounding error. So the level percentages make sense."
   ]
  },
  {
   "cell_type": "markdown",
   "metadata": {},
   "source": [
    "Let's also create binary variables for the rows where there were some students that received a level of 4 or 5, a level of 3 and above, and a level of 5."
   ]
  },
  {
   "cell_type": "code",
   "execution_count": 43,
   "metadata": {
    "collapsed": false
   },
   "outputs": [],
   "source": [
    "df_feat['passed_binary'] = df_feat.passed_percentage.map(lambda x: 0 if x == 0 else 1)\n",
    "df_feat['above_3_binary'] = df_feat.above_3.map(lambda x: 0 if x == 0 else 1)\n",
    "df_feat['above_5_binary'] = df_feat.level_5.map(lambda x: 0 if x == 0 else 1)"
   ]
  },
  {
   "cell_type": "code",
   "execution_count": 44,
   "metadata": {
    "collapsed": false
   },
   "outputs": [
    {
     "data": {
      "text/plain": [
       "1    13219\n",
       "0      850\n",
       "Name: passed_binary, dtype: int64"
      ]
     },
     "execution_count": 44,
     "metadata": {},
     "output_type": "execute_result"
    }
   ],
   "source": [
    "df_feat.passed_binary.value_counts()"
   ]
  },
  {
   "cell_type": "code",
   "execution_count": 45,
   "metadata": {
    "collapsed": false
   },
   "outputs": [
    {
     "data": {
      "text/plain": [
       "1    13926\n",
       "0      143\n",
       "Name: above_3_binary, dtype: int64"
      ]
     },
     "execution_count": 45,
     "metadata": {},
     "output_type": "execute_result"
    }
   ],
   "source": [
    "df_feat.above_3_binary.value_counts()"
   ]
  },
  {
   "cell_type": "code",
   "execution_count": 46,
   "metadata": {
    "collapsed": false
   },
   "outputs": [
    {
     "data": {
      "text/plain": [
       "0    7436\n",
       "1    6633\n",
       "Name: above_5_binary, dtype: int64"
      ]
     },
     "execution_count": 46,
     "metadata": {},
     "output_type": "execute_result"
    }
   ],
   "source": [
    "df_feat.above_5_binary.value_counts()"
   ]
  },
  {
   "cell_type": "markdown",
   "metadata": {},
   "source": [
    "More rows are at or above level 3 than at or above level 4. This makes sense. Also if we binarize based on whether any of the students were at level 5, we get about equal numbers in the two classes and so could apply logistic regression. But we are probably losing information if we bunch everybody from 1 to 4 in a single group and are using information more efficiently by looking at the average score, which is a continuous variable."
   ]
  },
  {
   "cell_type": "code",
   "execution_count": 47,
   "metadata": {
    "collapsed": true
   },
   "outputs": [],
   "source": [
    "df_feat['average_level'] = 1.0/100.0*(df_feat.level_1*1.0 + df_feat.level_2*2.0 + df_feat.level_3*3.0 + df_feat.level_4*4.0 + df_feat.level_5*5.0)"
   ]
  },
  {
   "cell_type": "code",
   "execution_count": 48,
   "metadata": {
    "collapsed": false
   },
   "outputs": [
    {
     "data": {
      "text/plain": [
       "104000    1.954\n",
       "104001    2.114\n",
       "104655    1.954\n",
       "104656    2.114\n",
       "104715    2.114\n",
       "Name: average_level, dtype: float64"
      ]
     },
     "execution_count": 48,
     "metadata": {},
     "output_type": "execute_result"
    }
   ],
   "source": [
    "df_feat.average_level.head()"
   ]
  },
  {
   "cell_type": "markdown",
   "metadata": {},
   "source": [
    "I will get rid of SUBGROUPs that are 'All' since these don't have a lot of characteristics."
   ]
  },
  {
   "cell_type": "code",
   "execution_count": 49,
   "metadata": {
    "collapsed": true
   },
   "outputs": [],
   "source": [
    "df_feat = df_feat[df_feat.SUBGROUP != 'All']"
   ]
  },
  {
   "cell_type": "code",
   "execution_count": 50,
   "metadata": {
    "collapsed": false
   },
   "outputs": [
    {
     "data": {
      "text/html": [
       "<div>\n",
       "<style scoped>\n",
       "    .dataframe tbody tr th:only-of-type {\n",
       "        vertical-align: middle;\n",
       "    }\n",
       "\n",
       "    .dataframe tbody tr th {\n",
       "        vertical-align: top;\n",
       "    }\n",
       "\n",
       "    .dataframe thead th {\n",
       "        text-align: right;\n",
       "    }\n",
       "</style>\n",
       "<table border=\"1\" class=\"dataframe\">\n",
       "  <thead>\n",
       "    <tr style=\"text-align: right;\">\n",
       "      <th></th>\n",
       "      <th>OBJECTID</th>\n",
       "      <th>SCHOOL_YEAR</th>\n",
       "      <th>SCHOOL_WARD</th>\n",
       "      <th>SCHOOL_CODE</th>\n",
       "      <th>SCHOOL_NAME</th>\n",
       "      <th>LEA_CODE</th>\n",
       "      <th>LEA_NAME</th>\n",
       "      <th>ASSESSMENT_TYPE</th>\n",
       "      <th>SUBJECT</th>\n",
       "      <th>TESTED_GRADE_SUBJECT</th>\n",
       "      <th>...</th>\n",
       "      <th>level_1</th>\n",
       "      <th>level_2</th>\n",
       "      <th>level_3</th>\n",
       "      <th>level_4</th>\n",
       "      <th>level_5</th>\n",
       "      <th>total_percentage</th>\n",
       "      <th>passed_binary</th>\n",
       "      <th>above_3_binary</th>\n",
       "      <th>above_5_binary</th>\n",
       "      <th>average_level</th>\n",
       "    </tr>\n",
       "  </thead>\n",
       "  <tbody>\n",
       "    <tr>\n",
       "      <th>104000</th>\n",
       "      <td>105405</td>\n",
       "      <td>2016-17</td>\n",
       "      <td>Ward 8</td>\n",
       "      <td>217</td>\n",
       "      <td>Achievement Preparatory Academy PCS Wahler Pla...</td>\n",
       "      <td>155</td>\n",
       "      <td>Achievement Preparatory Academy PCS</td>\n",
       "      <td>PARCC</td>\n",
       "      <td>ELA</td>\n",
       "      <td>Grades 3-8</td>\n",
       "      <td>...</td>\n",
       "      <td>48.8</td>\n",
       "      <td>17.1</td>\n",
       "      <td>24.4</td>\n",
       "      <td>9.8</td>\n",
       "      <td>0.0</td>\n",
       "      <td>100.1</td>\n",
       "      <td>1</td>\n",
       "      <td>1</td>\n",
       "      <td>0</td>\n",
       "      <td>1.954</td>\n",
       "    </tr>\n",
       "    <tr>\n",
       "      <th>104001</th>\n",
       "      <td>105406</td>\n",
       "      <td>2016-17</td>\n",
       "      <td>Ward 8</td>\n",
       "      <td>217</td>\n",
       "      <td>Achievement Preparatory Academy PCS Wahler Pla...</td>\n",
       "      <td>155</td>\n",
       "      <td>Achievement Preparatory Academy PCS</td>\n",
       "      <td>PARCC</td>\n",
       "      <td>ELA</td>\n",
       "      <td>Grades 3-8</td>\n",
       "      <td>...</td>\n",
       "      <td>39.4</td>\n",
       "      <td>19.7</td>\n",
       "      <td>31.0</td>\n",
       "      <td>9.9</td>\n",
       "      <td>0.0</td>\n",
       "      <td>100.0</td>\n",
       "      <td>1</td>\n",
       "      <td>1</td>\n",
       "      <td>0</td>\n",
       "      <td>2.114</td>\n",
       "    </tr>\n",
       "    <tr>\n",
       "      <th>104655</th>\n",
       "      <td>105865</td>\n",
       "      <td>2016-17</td>\n",
       "      <td>Ward 8</td>\n",
       "      <td>217</td>\n",
       "      <td>Achievement Preparatory Academy PCS Wahler Pla...</td>\n",
       "      <td>155</td>\n",
       "      <td>Achievement Preparatory Academy PCS</td>\n",
       "      <td>PARCC</td>\n",
       "      <td>ELA</td>\n",
       "      <td>All</td>\n",
       "      <td>...</td>\n",
       "      <td>48.8</td>\n",
       "      <td>17.1</td>\n",
       "      <td>24.4</td>\n",
       "      <td>9.8</td>\n",
       "      <td>0.0</td>\n",
       "      <td>100.1</td>\n",
       "      <td>1</td>\n",
       "      <td>1</td>\n",
       "      <td>0</td>\n",
       "      <td>1.954</td>\n",
       "    </tr>\n",
       "    <tr>\n",
       "      <th>104656</th>\n",
       "      <td>105866</td>\n",
       "      <td>2016-17</td>\n",
       "      <td>Ward 8</td>\n",
       "      <td>217</td>\n",
       "      <td>Achievement Preparatory Academy PCS Wahler Pla...</td>\n",
       "      <td>155</td>\n",
       "      <td>Achievement Preparatory Academy PCS</td>\n",
       "      <td>PARCC</td>\n",
       "      <td>ELA</td>\n",
       "      <td>All</td>\n",
       "      <td>...</td>\n",
       "      <td>39.4</td>\n",
       "      <td>19.7</td>\n",
       "      <td>31.0</td>\n",
       "      <td>9.9</td>\n",
       "      <td>0.0</td>\n",
       "      <td>100.0</td>\n",
       "      <td>1</td>\n",
       "      <td>1</td>\n",
       "      <td>0</td>\n",
       "      <td>2.114</td>\n",
       "    </tr>\n",
       "    <tr>\n",
       "      <th>104716</th>\n",
       "      <td>105881</td>\n",
       "      <td>2016-17</td>\n",
       "      <td>Ward 8</td>\n",
       "      <td>217</td>\n",
       "      <td>Achievement Preparatory Academy PCS Wahler Pla...</td>\n",
       "      <td>155</td>\n",
       "      <td>Achievement Preparatory Academy PCS</td>\n",
       "      <td>PARCC</td>\n",
       "      <td>ELA</td>\n",
       "      <td>Grade 3</td>\n",
       "      <td>...</td>\n",
       "      <td>29.6</td>\n",
       "      <td>33.3</td>\n",
       "      <td>18.5</td>\n",
       "      <td>18.5</td>\n",
       "      <td>0.0</td>\n",
       "      <td>99.9</td>\n",
       "      <td>1</td>\n",
       "      <td>1</td>\n",
       "      <td>0</td>\n",
       "      <td>2.257</td>\n",
       "    </tr>\n",
       "  </tbody>\n",
       "</table>\n",
       "<p>5 rows × 33 columns</p>\n",
       "</div>"
      ],
      "text/plain": [
       "        OBJECTID SCHOOL_YEAR SCHOOL_WARD  SCHOOL_CODE  \\\n",
       "104000    105405     2016-17      Ward 8          217   \n",
       "104001    105406     2016-17      Ward 8          217   \n",
       "104655    105865     2016-17      Ward 8          217   \n",
       "104656    105866     2016-17      Ward 8          217   \n",
       "104716    105881     2016-17      Ward 8          217   \n",
       "\n",
       "                                              SCHOOL_NAME  LEA_CODE  \\\n",
       "104000  Achievement Preparatory Academy PCS Wahler Pla...       155   \n",
       "104001  Achievement Preparatory Academy PCS Wahler Pla...       155   \n",
       "104655  Achievement Preparatory Academy PCS Wahler Pla...       155   \n",
       "104656  Achievement Preparatory Academy PCS Wahler Pla...       155   \n",
       "104716  Achievement Preparatory Academy PCS Wahler Pla...       155   \n",
       "\n",
       "                                   LEA_NAME ASSESSMENT_TYPE SUBJECT  \\\n",
       "104000  Achievement Preparatory Academy PCS           PARCC     ELA   \n",
       "104001  Achievement Preparatory Academy PCS           PARCC     ELA   \n",
       "104655  Achievement Preparatory Academy PCS           PARCC     ELA   \n",
       "104656  Achievement Preparatory Academy PCS           PARCC     ELA   \n",
       "104716  Achievement Preparatory Academy PCS           PARCC     ELA   \n",
       "\n",
       "       TESTED_GRADE_SUBJECT      ...      level_1 level_2 level_3 level_4  \\\n",
       "104000           Grades 3-8      ...         48.8    17.1    24.4     9.8   \n",
       "104001           Grades 3-8      ...         39.4    19.7    31.0     9.9   \n",
       "104655                  All      ...         48.8    17.1    24.4     9.8   \n",
       "104656                  All      ...         39.4    19.7    31.0     9.9   \n",
       "104716              Grade 3      ...         29.6    33.3    18.5    18.5   \n",
       "\n",
       "       level_5 total_percentage passed_binary above_3_binary above_5_binary  \\\n",
       "104000     0.0            100.1             1              1              0   \n",
       "104001     0.0            100.0             1              1              0   \n",
       "104655     0.0            100.1             1              1              0   \n",
       "104656     0.0            100.0             1              1              0   \n",
       "104716     0.0             99.9             1              1              0   \n",
       "\n",
       "       average_level  \n",
       "104000         1.954  \n",
       "104001         2.114  \n",
       "104655         1.954  \n",
       "104656         2.114  \n",
       "104716         2.257  \n",
       "\n",
       "[5 rows x 33 columns]"
      ]
     },
     "execution_count": 50,
     "metadata": {},
     "output_type": "execute_result"
    }
   ],
   "source": [
    "df_feat.head()"
   ]
  },
  {
   "cell_type": "code",
   "execution_count": 51,
   "metadata": {
    "collapsed": false
   },
   "outputs": [
    {
     "data": {
      "text/plain": [
       "All        10877\n",
       "Grade 7      582\n",
       "Grade 8      551\n",
       "Name: GRADE_OF_ENROLLMENT, dtype: int64"
      ]
     },
     "execution_count": 51,
     "metadata": {},
     "output_type": "execute_result"
    }
   ],
   "source": [
    "df_feat.GRADE_OF_ENROLLMENT.value_counts()"
   ]
  },
  {
   "cell_type": "markdown",
   "metadata": {},
   "source": [
    "I should subset on all, since I don't care what grade they are in."
   ]
  },
  {
   "cell_type": "code",
   "execution_count": 52,
   "metadata": {
    "collapsed": false
   },
   "outputs": [],
   "source": [
    "df_feat = df_feat[df_feat.GRADE_OF_ENROLLMENT == 'All']\n",
    "df_feat = df_feat[df_feat.TESTED_GRADE_SUBJECT != 'All']"
   ]
  },
  {
   "cell_type": "code",
   "execution_count": 53,
   "metadata": {
    "collapsed": false
   },
   "outputs": [
    {
     "data": {
      "text/html": [
       "<div>\n",
       "<style scoped>\n",
       "    .dataframe tbody tr th:only-of-type {\n",
       "        vertical-align: middle;\n",
       "    }\n",
       "\n",
       "    .dataframe tbody tr th {\n",
       "        vertical-align: top;\n",
       "    }\n",
       "\n",
       "    .dataframe thead th {\n",
       "        text-align: right;\n",
       "    }\n",
       "</style>\n",
       "<table border=\"1\" class=\"dataframe\">\n",
       "  <thead>\n",
       "    <tr style=\"text-align: right;\">\n",
       "      <th></th>\n",
       "      <th>OBJECTID</th>\n",
       "      <th>SCHOOL_YEAR</th>\n",
       "      <th>SCHOOL_WARD</th>\n",
       "      <th>SCHOOL_CODE</th>\n",
       "      <th>SCHOOL_NAME</th>\n",
       "      <th>LEA_CODE</th>\n",
       "      <th>LEA_NAME</th>\n",
       "      <th>ASSESSMENT_TYPE</th>\n",
       "      <th>SUBJECT</th>\n",
       "      <th>TESTED_GRADE_SUBJECT</th>\n",
       "      <th>GRADE_OF_ENROLLMENT</th>\n",
       "      <th>SUBGROUP</th>\n",
       "      <th>SUBGROUP_VALUE</th>\n",
       "      <th>PERCENT_MEETING_OR_EXCEEDING_E</th>\n",
       "      <th>PERCENT_LEVEL_3_</th>\n",
       "    </tr>\n",
       "  </thead>\n",
       "  <tbody>\n",
       "    <tr>\n",
       "      <th>104000</th>\n",
       "      <td>105405</td>\n",
       "      <td>2016-17</td>\n",
       "      <td>Ward 8</td>\n",
       "      <td>217</td>\n",
       "      <td>Achievement Preparatory Academy PCS Wahler Pla...</td>\n",
       "      <td>155</td>\n",
       "      <td>Achievement Preparatory Academy PCS</td>\n",
       "      <td>PARCC</td>\n",
       "      <td>ELA</td>\n",
       "      <td>Grades 3-8</td>\n",
       "      <td>All</td>\n",
       "      <td>Special Programs</td>\n",
       "      <td>At-Risk</td>\n",
       "      <td>9.8%</td>\n",
       "      <td>34.1%</td>\n",
       "    </tr>\n",
       "    <tr>\n",
       "      <th>104001</th>\n",
       "      <td>105406</td>\n",
       "      <td>2016-17</td>\n",
       "      <td>Ward 8</td>\n",
       "      <td>217</td>\n",
       "      <td>Achievement Preparatory Academy PCS Wahler Pla...</td>\n",
       "      <td>155</td>\n",
       "      <td>Achievement Preparatory Academy PCS</td>\n",
       "      <td>PARCC</td>\n",
       "      <td>ELA</td>\n",
       "      <td>Grades 3-8</td>\n",
       "      <td>All</td>\n",
       "      <td>Special Programs</td>\n",
       "      <td>Economically Disadvantaged</td>\n",
       "      <td>9.9%</td>\n",
       "      <td>40.8%</td>\n",
       "    </tr>\n",
       "    <tr>\n",
       "      <th>104716</th>\n",
       "      <td>105881</td>\n",
       "      <td>2016-17</td>\n",
       "      <td>Ward 8</td>\n",
       "      <td>217</td>\n",
       "      <td>Achievement Preparatory Academy PCS Wahler Pla...</td>\n",
       "      <td>155</td>\n",
       "      <td>Achievement Preparatory Academy PCS</td>\n",
       "      <td>PARCC</td>\n",
       "      <td>ELA</td>\n",
       "      <td>Grade 3</td>\n",
       "      <td>All</td>\n",
       "      <td>Gender</td>\n",
       "      <td>Female</td>\n",
       "      <td>18.5%</td>\n",
       "      <td>37.0%</td>\n",
       "    </tr>\n",
       "    <tr>\n",
       "      <th>104717</th>\n",
       "      <td>105882</td>\n",
       "      <td>2016-17</td>\n",
       "      <td>Ward 8</td>\n",
       "      <td>217</td>\n",
       "      <td>Achievement Preparatory Academy PCS Wahler Pla...</td>\n",
       "      <td>155</td>\n",
       "      <td>Achievement Preparatory Academy PCS</td>\n",
       "      <td>PARCC</td>\n",
       "      <td>ELA</td>\n",
       "      <td>Grade 3</td>\n",
       "      <td>All</td>\n",
       "      <td>Gender</td>\n",
       "      <td>Male</td>\n",
       "      <td>4.5%</td>\n",
       "      <td>43.2%</td>\n",
       "    </tr>\n",
       "    <tr>\n",
       "      <th>104718</th>\n",
       "      <td>105883</td>\n",
       "      <td>2016-17</td>\n",
       "      <td>Ward 8</td>\n",
       "      <td>217</td>\n",
       "      <td>Achievement Preparatory Academy PCS Wahler Pla...</td>\n",
       "      <td>155</td>\n",
       "      <td>Achievement Preparatory Academy PCS</td>\n",
       "      <td>PARCC</td>\n",
       "      <td>ELA</td>\n",
       "      <td>Grade 3</td>\n",
       "      <td>All</td>\n",
       "      <td>Race by Gender</td>\n",
       "      <td>Female-Black/African American</td>\n",
       "      <td>15.4%</td>\n",
       "      <td>34.6%</td>\n",
       "    </tr>\n",
       "  </tbody>\n",
       "</table>\n",
       "</div>"
      ],
      "text/plain": [
       "        OBJECTID SCHOOL_YEAR SCHOOL_WARD  SCHOOL_CODE  \\\n",
       "104000    105405     2016-17      Ward 8          217   \n",
       "104001    105406     2016-17      Ward 8          217   \n",
       "104716    105881     2016-17      Ward 8          217   \n",
       "104717    105882     2016-17      Ward 8          217   \n",
       "104718    105883     2016-17      Ward 8          217   \n",
       "\n",
       "                                              SCHOOL_NAME  LEA_CODE  \\\n",
       "104000  Achievement Preparatory Academy PCS Wahler Pla...       155   \n",
       "104001  Achievement Preparatory Academy PCS Wahler Pla...       155   \n",
       "104716  Achievement Preparatory Academy PCS Wahler Pla...       155   \n",
       "104717  Achievement Preparatory Academy PCS Wahler Pla...       155   \n",
       "104718  Achievement Preparatory Academy PCS Wahler Pla...       155   \n",
       "\n",
       "                                   LEA_NAME ASSESSMENT_TYPE SUBJECT  \\\n",
       "104000  Achievement Preparatory Academy PCS           PARCC     ELA   \n",
       "104001  Achievement Preparatory Academy PCS           PARCC     ELA   \n",
       "104716  Achievement Preparatory Academy PCS           PARCC     ELA   \n",
       "104717  Achievement Preparatory Academy PCS           PARCC     ELA   \n",
       "104718  Achievement Preparatory Academy PCS           PARCC     ELA   \n",
       "\n",
       "       TESTED_GRADE_SUBJECT GRADE_OF_ENROLLMENT          SUBGROUP  \\\n",
       "104000           Grades 3-8                 All  Special Programs   \n",
       "104001           Grades 3-8                 All  Special Programs   \n",
       "104716              Grade 3                 All            Gender   \n",
       "104717              Grade 3                 All            Gender   \n",
       "104718              Grade 3                 All    Race by Gender   \n",
       "\n",
       "                       SUBGROUP_VALUE PERCENT_MEETING_OR_EXCEEDING_E  \\\n",
       "104000                        At-Risk                           9.8%   \n",
       "104001     Economically Disadvantaged                           9.9%   \n",
       "104716                         Female                          18.5%   \n",
       "104717                           Male                           4.5%   \n",
       "104718  Female-Black/African American                          15.4%   \n",
       "\n",
       "       PERCENT_LEVEL_3_  \n",
       "104000            34.1%  \n",
       "104001            40.8%  \n",
       "104716            37.0%  \n",
       "104717            43.2%  \n",
       "104718            34.6%  "
      ]
     },
     "execution_count": 53,
     "metadata": {},
     "output_type": "execute_result"
    }
   ],
   "source": [
    "df_feat.iloc[:5,:15]"
   ]
  },
  {
   "cell_type": "code",
   "execution_count": 54,
   "metadata": {
    "collapsed": false
   },
   "outputs": [
    {
     "data": {
      "text/html": [
       "<div>\n",
       "<style scoped>\n",
       "    .dataframe tbody tr th:only-of-type {\n",
       "        vertical-align: middle;\n",
       "    }\n",
       "\n",
       "    .dataframe tbody tr th {\n",
       "        vertical-align: top;\n",
       "    }\n",
       "\n",
       "    .dataframe thead th {\n",
       "        text-align: right;\n",
       "    }\n",
       "</style>\n",
       "<table border=\"1\" class=\"dataframe\">\n",
       "  <thead>\n",
       "    <tr style=\"text-align: right;\">\n",
       "      <th></th>\n",
       "      <th>PERCENT_LEVEL_1</th>\n",
       "      <th>PERCENT_LEVEL_2</th>\n",
       "      <th>PERCENT_LEVEL_3</th>\n",
       "      <th>PERCENT_LEVEL_4</th>\n",
       "      <th>PERCENT_LEVEL_5</th>\n",
       "      <th>TOTAL_NUMBER_VALID_TEST_TAKERS</th>\n",
       "      <th>passed_percentage</th>\n",
       "      <th>above_3</th>\n",
       "      <th>level_1</th>\n",
       "      <th>level_2</th>\n",
       "      <th>level_3</th>\n",
       "      <th>level_4</th>\n",
       "      <th>level_5</th>\n",
       "      <th>total_percentage</th>\n",
       "      <th>passed_binary</th>\n",
       "      <th>above_3_binary</th>\n",
       "      <th>above_5_binary</th>\n",
       "      <th>average_level</th>\n",
       "    </tr>\n",
       "  </thead>\n",
       "  <tbody>\n",
       "    <tr>\n",
       "      <th>104000</th>\n",
       "      <td>48.8%</td>\n",
       "      <td>17.1%</td>\n",
       "      <td>24.4%</td>\n",
       "      <td>9.8%</td>\n",
       "      <td>0.0%</td>\n",
       "      <td>41</td>\n",
       "      <td>9.8</td>\n",
       "      <td>34.1</td>\n",
       "      <td>48.8</td>\n",
       "      <td>17.1</td>\n",
       "      <td>24.4</td>\n",
       "      <td>9.8</td>\n",
       "      <td>0.0</td>\n",
       "      <td>100.1</td>\n",
       "      <td>1</td>\n",
       "      <td>1</td>\n",
       "      <td>0</td>\n",
       "      <td>1.954</td>\n",
       "    </tr>\n",
       "    <tr>\n",
       "      <th>104001</th>\n",
       "      <td>39.4%</td>\n",
       "      <td>19.7%</td>\n",
       "      <td>31.0%</td>\n",
       "      <td>9.9%</td>\n",
       "      <td>0.0%</td>\n",
       "      <td>71</td>\n",
       "      <td>9.9</td>\n",
       "      <td>40.8</td>\n",
       "      <td>39.4</td>\n",
       "      <td>19.7</td>\n",
       "      <td>31.0</td>\n",
       "      <td>9.9</td>\n",
       "      <td>0.0</td>\n",
       "      <td>100.0</td>\n",
       "      <td>1</td>\n",
       "      <td>1</td>\n",
       "      <td>0</td>\n",
       "      <td>2.114</td>\n",
       "    </tr>\n",
       "    <tr>\n",
       "      <th>104716</th>\n",
       "      <td>29.6%</td>\n",
       "      <td>33.3%</td>\n",
       "      <td>18.5%</td>\n",
       "      <td>18.5%</td>\n",
       "      <td>0.0%</td>\n",
       "      <td>27</td>\n",
       "      <td>18.5</td>\n",
       "      <td>37.0</td>\n",
       "      <td>29.6</td>\n",
       "      <td>33.3</td>\n",
       "      <td>18.5</td>\n",
       "      <td>18.5</td>\n",
       "      <td>0.0</td>\n",
       "      <td>99.9</td>\n",
       "      <td>1</td>\n",
       "      <td>1</td>\n",
       "      <td>0</td>\n",
       "      <td>2.257</td>\n",
       "    </tr>\n",
       "    <tr>\n",
       "      <th>104717</th>\n",
       "      <td>45.5%</td>\n",
       "      <td>11.4%</td>\n",
       "      <td>38.6%</td>\n",
       "      <td>4.5%</td>\n",
       "      <td>0.0%</td>\n",
       "      <td>44</td>\n",
       "      <td>4.5</td>\n",
       "      <td>43.2</td>\n",
       "      <td>45.5</td>\n",
       "      <td>11.4</td>\n",
       "      <td>38.6</td>\n",
       "      <td>4.5</td>\n",
       "      <td>0.0</td>\n",
       "      <td>100.0</td>\n",
       "      <td>1</td>\n",
       "      <td>1</td>\n",
       "      <td>0</td>\n",
       "      <td>2.021</td>\n",
       "    </tr>\n",
       "    <tr>\n",
       "      <th>104718</th>\n",
       "      <td>30.8%</td>\n",
       "      <td>34.6%</td>\n",
       "      <td>19.2%</td>\n",
       "      <td>15.4%</td>\n",
       "      <td>0.0%</td>\n",
       "      <td>26</td>\n",
       "      <td>15.4</td>\n",
       "      <td>34.6</td>\n",
       "      <td>30.8</td>\n",
       "      <td>34.6</td>\n",
       "      <td>19.2</td>\n",
       "      <td>15.4</td>\n",
       "      <td>0.0</td>\n",
       "      <td>100.0</td>\n",
       "      <td>1</td>\n",
       "      <td>1</td>\n",
       "      <td>0</td>\n",
       "      <td>2.192</td>\n",
       "    </tr>\n",
       "  </tbody>\n",
       "</table>\n",
       "</div>"
      ],
      "text/plain": [
       "       PERCENT_LEVEL_1 PERCENT_LEVEL_2 PERCENT_LEVEL_3 PERCENT_LEVEL_4  \\\n",
       "104000           48.8%           17.1%           24.4%            9.8%   \n",
       "104001           39.4%           19.7%           31.0%            9.9%   \n",
       "104716           29.6%           33.3%           18.5%           18.5%   \n",
       "104717           45.5%           11.4%           38.6%            4.5%   \n",
       "104718           30.8%           34.6%           19.2%           15.4%   \n",
       "\n",
       "       PERCENT_LEVEL_5 TOTAL_NUMBER_VALID_TEST_TAKERS  passed_percentage  \\\n",
       "104000            0.0%                             41                9.8   \n",
       "104001            0.0%                             71                9.9   \n",
       "104716            0.0%                             27               18.5   \n",
       "104717            0.0%                             44                4.5   \n",
       "104718            0.0%                             26               15.4   \n",
       "\n",
       "        above_3  level_1  level_2  level_3  level_4  level_5  \\\n",
       "104000     34.1     48.8     17.1     24.4      9.8      0.0   \n",
       "104001     40.8     39.4     19.7     31.0      9.9      0.0   \n",
       "104716     37.0     29.6     33.3     18.5     18.5      0.0   \n",
       "104717     43.2     45.5     11.4     38.6      4.5      0.0   \n",
       "104718     34.6     30.8     34.6     19.2     15.4      0.0   \n",
       "\n",
       "        total_percentage  passed_binary  above_3_binary  above_5_binary  \\\n",
       "104000             100.1              1               1               0   \n",
       "104001             100.0              1               1               0   \n",
       "104716              99.9              1               1               0   \n",
       "104717             100.0              1               1               0   \n",
       "104718             100.0              1               1               0   \n",
       "\n",
       "        average_level  \n",
       "104000          1.954  \n",
       "104001          2.114  \n",
       "104716          2.257  \n",
       "104717          2.021  \n",
       "104718          2.192  "
      ]
     },
     "execution_count": 54,
     "metadata": {},
     "output_type": "execute_result"
    }
   ],
   "source": [
    "df_feat.iloc[:5,15:]"
   ]
  },
  {
   "cell_type": "code",
   "execution_count": 55,
   "metadata": {
    "collapsed": false
   },
   "outputs": [
    {
     "data": {
      "text/plain": [
       "Special Programs    2587\n",
       "Gender              1893\n",
       "Race by Gender      1719\n",
       "Race/Ethnicity      1561\n",
       "Name: SUBGROUP, dtype: int64"
      ]
     },
     "execution_count": 55,
     "metadata": {},
     "output_type": "execute_result"
    }
   ],
   "source": [
    "df_feat.SUBGROUP.value_counts()"
   ]
  },
  {
   "cell_type": "markdown",
   "metadata": {},
   "source": [
    "Let's look at race and ethnicity."
   ]
  },
  {
   "cell_type": "code",
   "execution_count": 56,
   "metadata": {
    "collapsed": true
   },
   "outputs": [],
   "source": [
    "#df_race = df_feat[df_feat.SUBGROUP == 'Race by Gender']\n",
    "df_race = df_feat[df_feat.SUBGROUP == 'Race/Ethnicity']"
   ]
  },
  {
   "cell_type": "code",
   "execution_count": 57,
   "metadata": {
    "collapsed": false
   },
   "outputs": [
    {
     "data": {
      "text/plain": [
       "(1561, 33)"
      ]
     },
     "execution_count": 57,
     "metadata": {},
     "output_type": "execute_result"
    }
   ],
   "source": [
    "df_race.shape"
   ]
  },
  {
   "cell_type": "code",
   "execution_count": 58,
   "metadata": {
    "collapsed": false
   },
   "outputs": [
    {
     "data": {
      "text/html": [
       "<div>\n",
       "<style scoped>\n",
       "    .dataframe tbody tr th:only-of-type {\n",
       "        vertical-align: middle;\n",
       "    }\n",
       "\n",
       "    .dataframe tbody tr th {\n",
       "        vertical-align: top;\n",
       "    }\n",
       "\n",
       "    .dataframe thead th {\n",
       "        text-align: right;\n",
       "    }\n",
       "</style>\n",
       "<table border=\"1\" class=\"dataframe\">\n",
       "  <thead>\n",
       "    <tr style=\"text-align: right;\">\n",
       "      <th></th>\n",
       "      <th>OBJECTID</th>\n",
       "      <th>SCHOOL_YEAR</th>\n",
       "      <th>SCHOOL_WARD</th>\n",
       "      <th>SCHOOL_CODE</th>\n",
       "      <th>SCHOOL_NAME</th>\n",
       "      <th>LEA_CODE</th>\n",
       "      <th>LEA_NAME</th>\n",
       "      <th>ASSESSMENT_TYPE</th>\n",
       "      <th>SUBJECT</th>\n",
       "      <th>TESTED_GRADE_SUBJECT</th>\n",
       "      <th>...</th>\n",
       "      <th>level_1</th>\n",
       "      <th>level_2</th>\n",
       "      <th>level_3</th>\n",
       "      <th>level_4</th>\n",
       "      <th>level_5</th>\n",
       "      <th>total_percentage</th>\n",
       "      <th>passed_binary</th>\n",
       "      <th>above_3_binary</th>\n",
       "      <th>above_5_binary</th>\n",
       "      <th>average_level</th>\n",
       "    </tr>\n",
       "  </thead>\n",
       "  <tbody>\n",
       "    <tr>\n",
       "      <th>104722</th>\n",
       "      <td>105887</td>\n",
       "      <td>2016-17</td>\n",
       "      <td>Ward 8</td>\n",
       "      <td>217</td>\n",
       "      <td>Achievement Preparatory Academy PCS Wahler Pla...</td>\n",
       "      <td>155</td>\n",
       "      <td>Achievement Preparatory Academy PCS</td>\n",
       "      <td>PARCC</td>\n",
       "      <td>ELA</td>\n",
       "      <td>Grade 3</td>\n",
       "      <td>...</td>\n",
       "      <td>39.1</td>\n",
       "      <td>20.3</td>\n",
       "      <td>31.9</td>\n",
       "      <td>8.7</td>\n",
       "      <td>0.0</td>\n",
       "      <td>100.0</td>\n",
       "      <td>1</td>\n",
       "      <td>1</td>\n",
       "      <td>0</td>\n",
       "      <td>2.102</td>\n",
       "    </tr>\n",
       "    <tr>\n",
       "      <th>104996</th>\n",
       "      <td>105401</td>\n",
       "      <td>2016-17</td>\n",
       "      <td>Ward 8</td>\n",
       "      <td>217</td>\n",
       "      <td>Achievement Preparatory Academy PCS Wahler Pla...</td>\n",
       "      <td>155</td>\n",
       "      <td>Achievement Preparatory Academy PCS</td>\n",
       "      <td>PARCC</td>\n",
       "      <td>ELA</td>\n",
       "      <td>Grades 3-8</td>\n",
       "      <td>...</td>\n",
       "      <td>39.1</td>\n",
       "      <td>20.3</td>\n",
       "      <td>31.9</td>\n",
       "      <td>8.7</td>\n",
       "      <td>0.0</td>\n",
       "      <td>100.0</td>\n",
       "      <td>1</td>\n",
       "      <td>1</td>\n",
       "      <td>0</td>\n",
       "      <td>2.102</td>\n",
       "    </tr>\n",
       "    <tr>\n",
       "      <th>105728</th>\n",
       "      <td>106523</td>\n",
       "      <td>2016-17</td>\n",
       "      <td>Ward 8</td>\n",
       "      <td>217</td>\n",
       "      <td>Achievement Preparatory Academy PCS Wahler Pla...</td>\n",
       "      <td>155</td>\n",
       "      <td>Achievement Preparatory Academy PCS</td>\n",
       "      <td>PARCC</td>\n",
       "      <td>Math</td>\n",
       "      <td>Grade 3</td>\n",
       "      <td>...</td>\n",
       "      <td>24.6</td>\n",
       "      <td>23.2</td>\n",
       "      <td>33.3</td>\n",
       "      <td>17.4</td>\n",
       "      <td>1.4</td>\n",
       "      <td>99.9</td>\n",
       "      <td>1</td>\n",
       "      <td>1</td>\n",
       "      <td>1</td>\n",
       "      <td>2.475</td>\n",
       "    </tr>\n",
       "    <tr>\n",
       "      <th>105754</th>\n",
       "      <td>106549</td>\n",
       "      <td>2016-17</td>\n",
       "      <td>Ward 8</td>\n",
       "      <td>217</td>\n",
       "      <td>Achievement Preparatory Academy PCS Wahler Pla...</td>\n",
       "      <td>155</td>\n",
       "      <td>Achievement Preparatory Academy PCS</td>\n",
       "      <td>PARCC</td>\n",
       "      <td>Math</td>\n",
       "      <td>Grades 3-8</td>\n",
       "      <td>...</td>\n",
       "      <td>24.6</td>\n",
       "      <td>23.2</td>\n",
       "      <td>33.3</td>\n",
       "      <td>17.4</td>\n",
       "      <td>1.4</td>\n",
       "      <td>99.9</td>\n",
       "      <td>1</td>\n",
       "      <td>1</td>\n",
       "      <td>1</td>\n",
       "      <td>2.475</td>\n",
       "    </tr>\n",
       "    <tr>\n",
       "      <th>109221</th>\n",
       "      <td>110832</td>\n",
       "      <td>2016-17</td>\n",
       "      <td>Ward 4</td>\n",
       "      <td>205</td>\n",
       "      <td>Barnard ES</td>\n",
       "      <td>1</td>\n",
       "      <td>District of Columbia Public Schools</td>\n",
       "      <td>PARCC</td>\n",
       "      <td>ELA</td>\n",
       "      <td>Grade 3</td>\n",
       "      <td>...</td>\n",
       "      <td>18.4</td>\n",
       "      <td>23.7</td>\n",
       "      <td>26.3</td>\n",
       "      <td>31.6</td>\n",
       "      <td>0.0</td>\n",
       "      <td>100.0</td>\n",
       "      <td>1</td>\n",
       "      <td>1</td>\n",
       "      <td>0</td>\n",
       "      <td>2.711</td>\n",
       "    </tr>\n",
       "  </tbody>\n",
       "</table>\n",
       "<p>5 rows × 33 columns</p>\n",
       "</div>"
      ],
      "text/plain": [
       "        OBJECTID SCHOOL_YEAR SCHOOL_WARD  SCHOOL_CODE  \\\n",
       "104722    105887     2016-17      Ward 8          217   \n",
       "104996    105401     2016-17      Ward 8          217   \n",
       "105728    106523     2016-17      Ward 8          217   \n",
       "105754    106549     2016-17      Ward 8          217   \n",
       "109221    110832     2016-17      Ward 4          205   \n",
       "\n",
       "                                              SCHOOL_NAME  LEA_CODE  \\\n",
       "104722  Achievement Preparatory Academy PCS Wahler Pla...       155   \n",
       "104996  Achievement Preparatory Academy PCS Wahler Pla...       155   \n",
       "105728  Achievement Preparatory Academy PCS Wahler Pla...       155   \n",
       "105754  Achievement Preparatory Academy PCS Wahler Pla...       155   \n",
       "109221                                         Barnard ES         1   \n",
       "\n",
       "                                   LEA_NAME ASSESSMENT_TYPE SUBJECT  \\\n",
       "104722  Achievement Preparatory Academy PCS           PARCC     ELA   \n",
       "104996  Achievement Preparatory Academy PCS           PARCC     ELA   \n",
       "105728  Achievement Preparatory Academy PCS           PARCC    Math   \n",
       "105754  Achievement Preparatory Academy PCS           PARCC    Math   \n",
       "109221  District of Columbia Public Schools           PARCC     ELA   \n",
       "\n",
       "       TESTED_GRADE_SUBJECT      ...      level_1 level_2 level_3 level_4  \\\n",
       "104722              Grade 3      ...         39.1    20.3    31.9     8.7   \n",
       "104996           Grades 3-8      ...         39.1    20.3    31.9     8.7   \n",
       "105728              Grade 3      ...         24.6    23.2    33.3    17.4   \n",
       "105754           Grades 3-8      ...         24.6    23.2    33.3    17.4   \n",
       "109221              Grade 3      ...         18.4    23.7    26.3    31.6   \n",
       "\n",
       "       level_5 total_percentage passed_binary above_3_binary above_5_binary  \\\n",
       "104722     0.0            100.0             1              1              0   \n",
       "104996     0.0            100.0             1              1              0   \n",
       "105728     1.4             99.9             1              1              1   \n",
       "105754     1.4             99.9             1              1              1   \n",
       "109221     0.0            100.0             1              1              0   \n",
       "\n",
       "       average_level  \n",
       "104722         2.102  \n",
       "104996         2.102  \n",
       "105728         2.475  \n",
       "105754         2.475  \n",
       "109221         2.711  \n",
       "\n",
       "[5 rows x 33 columns]"
      ]
     },
     "execution_count": 58,
     "metadata": {},
     "output_type": "execute_result"
    }
   ],
   "source": [
    "df_race.head()"
   ]
  },
  {
   "cell_type": "code",
   "execution_count": 59,
   "metadata": {
    "collapsed": false
   },
   "outputs": [
    {
     "data": {
      "text/plain": [
       "Black/African American    1119\n",
       "Hispanic/Latino            271\n",
       "White/Caucasian            151\n",
       "Two or More Races           14\n",
       "Asian                        6\n",
       "Name: SUBGROUP_VALUE, dtype: int64"
      ]
     },
     "execution_count": 59,
     "metadata": {},
     "output_type": "execute_result"
    }
   ],
   "source": [
    "df_race.SUBGROUP_VALUE.value_counts()"
   ]
  },
  {
   "cell_type": "markdown",
   "metadata": {},
   "source": [
    "There are only 6 rows with Asian, and 14 with Two or More Races. We should get rid of these since this is not a lot of data for modeling these categories."
   ]
  },
  {
   "cell_type": "code",
   "execution_count": 60,
   "metadata": {
    "collapsed": false
   },
   "outputs": [],
   "source": [
    "df_race = df_race[(df_race.SUBGROUP_VALUE != 'Asian') & (df_race.SUBGROUP_VALUE != 'Two or More Races')]"
   ]
  },
  {
   "cell_type": "code",
   "execution_count": 61,
   "metadata": {
    "collapsed": false
   },
   "outputs": [
    {
     "data": {
      "text/plain": [
       "Black/African American    1119\n",
       "Hispanic/Latino            271\n",
       "White/Caucasian            151\n",
       "Name: SUBGROUP_VALUE, dtype: int64"
      ]
     },
     "execution_count": 61,
     "metadata": {},
     "output_type": "execute_result"
    }
   ],
   "source": [
    "df_race.SUBGROUP_VALUE.value_counts()"
   ]
  },
  {
   "cell_type": "code",
   "execution_count": 62,
   "metadata": {
    "collapsed": false
   },
   "outputs": [
    {
     "data": {
      "text/plain": [
       "<matplotlib.axes._subplots.AxesSubplot at 0x10d055990>"
      ]
     },
     "execution_count": 62,
     "metadata": {},
     "output_type": "execute_result"
    },
    {
     "data": {
      "image/png": "[encoded data removed]",
      "text/plain": [
       "<matplotlib.figure.Figure at 0x10d055490>"
      ]
     },
     "metadata": {},
     "output_type": "display_data"
    }
   ],
   "source": [
    "df_race.passed_percentage.hist(bins = 20)"
   ]
  },
  {
   "cell_type": "markdown",
   "metadata": {},
   "source": [
    "Let's see how many, if any, have zero passing."
   ]
  },
  {
   "cell_type": "code",
   "execution_count": 63,
   "metadata": {
    "collapsed": false
   },
   "outputs": [
    {
     "name": "stdout",
     "output_type": "stream",
     "text": [
      "(55, 33)\n",
      "(1486, 33)\n"
     ]
    }
   ],
   "source": [
    "print df_race[df_race.passed_percentage == 0.0].shape\n",
    "print df_race[df_race.passed_percentage > 0.0].shape"
   ]
  },
  {
   "cell_type": "markdown",
   "metadata": {},
   "source": [
    "Some of them do have zero students passing, but it is not that much to make a binary prediction very robust."
   ]
  },
  {
   "cell_type": "code",
   "execution_count": 64,
   "metadata": {
    "collapsed": false
   },
   "outputs": [
    {
     "data": {
      "text/plain": [
       "<matplotlib.axes._subplots.AxesSubplot at 0x11a4315d0>"
      ]
     },
     "execution_count": 64,
     "metadata": {},
     "output_type": "execute_result"
    },
    {
     "data": {
      "image/png": "[encoded data removed]",
      "text/plain": [
       "<matplotlib.figure.Figure at 0x11a43b790>"
      ]
     },
     "metadata": {},
     "output_type": "display_data"
    }
   ],
   "source": [
    "df_race.average_level.hist(bins = 20)"
   ]
  },
  {
   "cell_type": "markdown",
   "metadata": {},
   "source": [
    "If you look at the average level the distribution is looking reasonable. I will build a model that predicts the average level for a given row and look at the features that determine the average level."
   ]
  },
  {
   "cell_type": "markdown",
   "metadata": {},
   "source": [
    "# Modeling"
   ]
  },
  {
   "cell_type": "markdown",
   "metadata": {},
   "source": [
    "Let's remind ourselves what the features are."
   ]
  },
  {
   "cell_type": "code",
   "execution_count": 65,
   "metadata": {
    "collapsed": false
   },
   "outputs": [
    {
     "data": {
      "text/plain": [
       "Index([u'OBJECTID', u'SCHOOL_YEAR', u'SCHOOL_WARD', u'SCHOOL_CODE',\n",
       "       u'SCHOOL_NAME', u'LEA_CODE', u'LEA_NAME', u'ASSESSMENT_TYPE',\n",
       "       u'SUBJECT', u'TESTED_GRADE_SUBJECT', u'GRADE_OF_ENROLLMENT',\n",
       "       u'SUBGROUP', u'SUBGROUP_VALUE', u'PERCENT_MEETING_OR_EXCEEDING_E',\n",
       "       u'PERCENT_LEVEL_3_', u'PERCENT_LEVEL_1', u'PERCENT_LEVEL_2',\n",
       "       u'PERCENT_LEVEL_3', u'PERCENT_LEVEL_4', u'PERCENT_LEVEL_5',\n",
       "       u'TOTAL_NUMBER_VALID_TEST_TAKERS', u'passed_percentage', u'above_3',\n",
       "       u'level_1', u'level_2', u'level_3', u'level_4', u'level_5',\n",
       "       u'total_percentage', u'passed_binary', u'above_3_binary',\n",
       "       u'above_5_binary', u'average_level'],\n",
       "      dtype='object')"
      ]
     },
     "execution_count": 65,
     "metadata": {},
     "output_type": "execute_result"
    }
   ],
   "source": [
    "df_race.columns"
   ]
  },
  {
   "cell_type": "markdown",
   "metadata": {},
   "source": [
    "I could include the school code/name or LEA code/name, but given there are only about 1500 rows and not a lot of granularity in the data, including these could lead to overfitting. I can rigorously test this by cross-validation for example, but for now I decide to not include these in the model."
   ]
  },
  {
   "cell_type": "code",
   "execution_count": 66,
   "metadata": {
    "collapsed": false
   },
   "outputs": [],
   "source": [
    "df_race_model = df_race[['SCHOOL_WARD','SUBJECT','TESTED_GRADE_SUBJECT','SUBGROUP_VALUE','average_level']]\n",
    "#df_race_model = df_race[['SCHOOL_WARD','LEA_NAME','SUBJECT','TESTED_GRADE_SUBJECT','SUBGROUP_VALUE','average_level']]"
   ]
  },
  {
   "cell_type": "code",
   "execution_count": 67,
   "metadata": {
    "collapsed": false
   },
   "outputs": [
    {
     "data": {
      "text/html": [
       "<div>\n",
       "<style scoped>\n",
       "    .dataframe tbody tr th:only-of-type {\n",
       "        vertical-align: middle;\n",
       "    }\n",
       "\n",
       "    .dataframe tbody tr th {\n",
       "        vertical-align: top;\n",
       "    }\n",
       "\n",
       "    .dataframe thead th {\n",
       "        text-align: right;\n",
       "    }\n",
       "</style>\n",
       "<table border=\"1\" class=\"dataframe\">\n",
       "  <thead>\n",
       "    <tr style=\"text-align: right;\">\n",
       "      <th></th>\n",
       "      <th>SCHOOL_WARD</th>\n",
       "      <th>SUBJECT</th>\n",
       "      <th>TESTED_GRADE_SUBJECT</th>\n",
       "      <th>SUBGROUP_VALUE</th>\n",
       "      <th>average_level</th>\n",
       "    </tr>\n",
       "  </thead>\n",
       "  <tbody>\n",
       "    <tr>\n",
       "      <th>104722</th>\n",
       "      <td>Ward 8</td>\n",
       "      <td>ELA</td>\n",
       "      <td>Grade 3</td>\n",
       "      <td>Black/African American</td>\n",
       "      <td>2.102</td>\n",
       "    </tr>\n",
       "    <tr>\n",
       "      <th>104996</th>\n",
       "      <td>Ward 8</td>\n",
       "      <td>ELA</td>\n",
       "      <td>Grades 3-8</td>\n",
       "      <td>Black/African American</td>\n",
       "      <td>2.102</td>\n",
       "    </tr>\n",
       "    <tr>\n",
       "      <th>105728</th>\n",
       "      <td>Ward 8</td>\n",
       "      <td>Math</td>\n",
       "      <td>Grade 3</td>\n",
       "      <td>Black/African American</td>\n",
       "      <td>2.475</td>\n",
       "    </tr>\n",
       "    <tr>\n",
       "      <th>105754</th>\n",
       "      <td>Ward 8</td>\n",
       "      <td>Math</td>\n",
       "      <td>Grades 3-8</td>\n",
       "      <td>Black/African American</td>\n",
       "      <td>2.475</td>\n",
       "    </tr>\n",
       "    <tr>\n",
       "      <th>109221</th>\n",
       "      <td>Ward 4</td>\n",
       "      <td>ELA</td>\n",
       "      <td>Grade 3</td>\n",
       "      <td>Black/African American</td>\n",
       "      <td>2.711</td>\n",
       "    </tr>\n",
       "  </tbody>\n",
       "</table>\n",
       "</div>"
      ],
      "text/plain": [
       "       SCHOOL_WARD SUBJECT TESTED_GRADE_SUBJECT          SUBGROUP_VALUE  \\\n",
       "104722      Ward 8     ELA              Grade 3  Black/African American   \n",
       "104996      Ward 8     ELA           Grades 3-8  Black/African American   \n",
       "105728      Ward 8    Math              Grade 3  Black/African American   \n",
       "105754      Ward 8    Math           Grades 3-8  Black/African American   \n",
       "109221      Ward 4     ELA              Grade 3  Black/African American   \n",
       "\n",
       "        average_level  \n",
       "104722          2.102  \n",
       "104996          2.102  \n",
       "105728          2.475  \n",
       "105754          2.475  \n",
       "109221          2.711  "
      ]
     },
     "execution_count": 67,
     "metadata": {},
     "output_type": "execute_result"
    }
   ],
   "source": [
    "df_race_model.head()"
   ]
  },
  {
   "cell_type": "markdown",
   "metadata": {},
   "source": [
    "Let's check and make sure all of the column values are distributed reasonably."
   ]
  },
  {
   "cell_type": "code",
   "execution_count": 68,
   "metadata": {
    "collapsed": false
   },
   "outputs": [
    {
     "data": {
      "text/plain": [
       "Ward 4    262\n",
       "Ward 5    238\n",
       "Ward 8    237\n",
       "Ward 7    214\n",
       "Ward 6    205\n",
       "Ward 1    182\n",
       "Ward 3    121\n",
       "Ward 2     82\n",
       "Name: SCHOOL_WARD, dtype: int64"
      ]
     },
     "execution_count": 68,
     "metadata": {},
     "output_type": "execute_result"
    }
   ],
   "source": [
    "df_race_model.SCHOOL_WARD.value_counts()"
   ]
  },
  {
   "cell_type": "code",
   "execution_count": 69,
   "metadata": {
    "collapsed": false
   },
   "outputs": [
    {
     "data": {
      "text/plain": [
       "Math    774\n",
       "ELA     767\n",
       "Name: SUBJECT, dtype: int64"
      ]
     },
     "execution_count": 69,
     "metadata": {},
     "output_type": "execute_result"
    }
   ],
   "source": [
    "df_race_model.SUBJECT.value_counts()"
   ]
  },
  {
   "cell_type": "code",
   "execution_count": 70,
   "metadata": {
    "collapsed": false
   },
   "outputs": [
    {
     "data": {
      "text/plain": [
       "Grades 3-8      442\n",
       "Grade 3         197\n",
       "Grade 4         191\n",
       "Grade 5         172\n",
       "Grade 6         126\n",
       "Grade 7         112\n",
       "Grade 8         102\n",
       "Grades 9-12      97\n",
       "Geometry         47\n",
       "English II       46\n",
       "Algebra I         5\n",
       "Integrated M      2\n",
       "Algebra II        2\n",
       "Name: TESTED_GRADE_SUBJECT, dtype: int64"
      ]
     },
     "execution_count": 70,
     "metadata": {},
     "output_type": "execute_result"
    }
   ],
   "source": [
    "df_race_model.TESTED_GRADE_SUBJECT.value_counts()"
   ]
  },
  {
   "cell_type": "code",
   "execution_count": 71,
   "metadata": {
    "collapsed": false
   },
   "outputs": [
    {
     "data": {
      "text/plain": [
       "Black/African American    1119\n",
       "Hispanic/Latino            271\n",
       "White/Caucasian            151\n",
       "Name: SUBGROUP_VALUE, dtype: int64"
      ]
     },
     "execution_count": 71,
     "metadata": {},
     "output_type": "execute_result"
    }
   ],
   "source": [
    "df_race_model.SUBGROUP_VALUE.value_counts()"
   ]
  },
  {
   "cell_type": "markdown",
   "metadata": {
    "collapsed": false
   },
   "source": [
    "There are some low value categories, but overall it looks reasonable to perform a linear regression."
   ]
  },
  {
   "cell_type": "code",
   "execution_count": 72,
   "metadata": {
    "collapsed": false
   },
   "outputs": [
    {
     "name": "stdout",
     "output_type": "stream",
     "text": [
      "average_level ~ SCHOOL_WARD + SUBJECT + TESTED_GRADE_SUBJECT + SUBGROUP_VALUE\n"
     ]
    }
   ],
   "source": [
    "# https://www.statsmodels.org/stable/index.html\n",
    "# https://www.statsmodels.org/devel/examples/notebooks/generated/ols.html\n",
    "race_formula = 'average_level ~ SCHOOL_WARD'\n",
    "for i, col in enumerate(df_race_model):\n",
    "    if col != 'average_level' and col != 'SCHOOL_WARD':\n",
    "        race_formula = race_formula + ' + ' + col\n",
    "print race_formula"
   ]
  },
  {
   "cell_type": "code",
   "execution_count": 73,
   "metadata": {
    "collapsed": false
   },
   "outputs": [
    {
     "data": {
      "text/html": [
       "<table class=\"simpletable\">\n",
       "<caption>OLS Regression Results</caption>\n",
       "<tr>\n",
       "  <th>Dep. Variable:</th>      <td>average_level</td>  <th>  R-squared:         </th> <td>   0.568</td> \n",
       "</tr>\n",
       "<tr>\n",
       "  <th>Model:</th>                   <td>OLS</td>       <th>  Adj. R-squared:    </th> <td>   0.562</td> \n",
       "</tr>\n",
       "<tr>\n",
       "  <th>Method:</th>             <td>Least Squares</td>  <th>  F-statistic:       </th> <td>   90.68</td> \n",
       "</tr>\n",
       "<tr>\n",
       "  <th>Date:</th>             <td>Thu, 02 May 2019</td> <th>  Prob (F-statistic):</th> <td>1.76e-257</td>\n",
       "</tr>\n",
       "<tr>\n",
       "  <th>Time:</th>                 <td>00:19:53</td>     <th>  Log-Likelihood:    </th> <td> -942.07</td> \n",
       "</tr>\n",
       "<tr>\n",
       "  <th>No. Observations:</th>      <td>  1541</td>      <th>  AIC:               </th> <td>   1930.</td> \n",
       "</tr>\n",
       "<tr>\n",
       "  <th>Df Residuals:</th>          <td>  1518</td>      <th>  BIC:               </th> <td>   2053.</td> \n",
       "</tr>\n",
       "<tr>\n",
       "  <th>Df Model:</th>              <td>    22</td>      <th>                     </th>     <td> </td>    \n",
       "</tr>\n",
       "<tr>\n",
       "  <th>Covariance Type:</th>      <td>nonrobust</td>    <th>                     </th>     <td> </td>    \n",
       "</tr>\n",
       "</table>\n",
       "<table class=\"simpletable\">\n",
       "<tr>\n",
       "                    <td></td>                      <th>coef</th>     <th>std err</th>      <th>t</th>      <th>P>|t|</th>  <th>[0.025</th>    <th>0.975]</th>  \n",
       "</tr>\n",
       "<tr>\n",
       "  <th>Intercept</th>                            <td>    2.2896</td> <td>    0.205</td> <td>   11.158</td> <td> 0.000</td> <td>    1.887</td> <td>    2.692</td>\n",
       "</tr>\n",
       "<tr>\n",
       "  <th>SCHOOL_WARD[T.Ward 2]</th>                <td>    0.3256</td> <td>    0.062</td> <td>    5.231</td> <td> 0.000</td> <td>    0.204</td> <td>    0.448</td>\n",
       "</tr>\n",
       "<tr>\n",
       "  <th>SCHOOL_WARD[T.Ward 3]</th>                <td>    0.4076</td> <td>    0.058</td> <td>    7.058</td> <td> 0.000</td> <td>    0.294</td> <td>    0.521</td>\n",
       "</tr>\n",
       "<tr>\n",
       "  <th>SCHOOL_WARD[T.Ward 4]</th>                <td>    0.0418</td> <td>    0.044</td> <td>    0.957</td> <td> 0.339</td> <td>   -0.044</td> <td>    0.128</td>\n",
       "</tr>\n",
       "<tr>\n",
       "  <th>SCHOOL_WARD[T.Ward 5]</th>                <td>   -0.1219</td> <td>    0.048</td> <td>   -2.563</td> <td> 0.010</td> <td>   -0.215</td> <td>   -0.029</td>\n",
       "</tr>\n",
       "<tr>\n",
       "  <th>SCHOOL_WARD[T.Ward 6]</th>                <td>   -0.0563</td> <td>    0.049</td> <td>   -1.144</td> <td> 0.253</td> <td>   -0.153</td> <td>    0.040</td>\n",
       "</tr>\n",
       "<tr>\n",
       "  <th>SCHOOL_WARD[T.Ward 7]</th>                <td>   -0.2049</td> <td>    0.050</td> <td>   -4.130</td> <td> 0.000</td> <td>   -0.302</td> <td>   -0.108</td>\n",
       "</tr>\n",
       "<tr>\n",
       "  <th>SCHOOL_WARD[T.Ward 8]</th>                <td>   -0.3874</td> <td>    0.049</td> <td>   -7.959</td> <td> 0.000</td> <td>   -0.483</td> <td>   -0.292</td>\n",
       "</tr>\n",
       "<tr>\n",
       "  <th>SUBJECT[T.Math]</th>                      <td>   -0.0135</td> <td>    0.024</td> <td>   -0.568</td> <td> 0.570</td> <td>   -0.060</td> <td>    0.033</td>\n",
       "</tr>\n",
       "<tr>\n",
       "  <th>TESTED_GRADE_SUBJECT[T.Algebra II]</th>   <td>   -0.3463</td> <td>    0.378</td> <td>   -0.916</td> <td> 0.360</td> <td>   -1.088</td> <td>    0.395</td>\n",
       "</tr>\n",
       "<tr>\n",
       "  <th>TESTED_GRADE_SUBJECT[T.English II]</th>   <td>    0.0469</td> <td>    0.214</td> <td>    0.220</td> <td> 0.826</td> <td>   -0.372</td> <td>    0.466</td>\n",
       "</tr>\n",
       "<tr>\n",
       "  <th>TESTED_GRADE_SUBJECT[T.Geometry]</th>     <td>   -0.0517</td> <td>    0.212</td> <td>   -0.244</td> <td> 0.808</td> <td>   -0.468</td> <td>    0.364</td>\n",
       "</tr>\n",
       "<tr>\n",
       "  <th>TESTED_GRADE_SUBJECT[T.Grade 3]</th>      <td>    0.2705</td> <td>    0.205</td> <td>    1.321</td> <td> 0.187</td> <td>   -0.131</td> <td>    0.672</td>\n",
       "</tr>\n",
       "<tr>\n",
       "  <th>TESTED_GRADE_SUBJECT[T.Grade 4]</th>      <td>    0.3304</td> <td>    0.205</td> <td>    1.613</td> <td> 0.107</td> <td>   -0.071</td> <td>    0.732</td>\n",
       "</tr>\n",
       "<tr>\n",
       "  <th>TESTED_GRADE_SUBJECT[T.Grade 5]</th>      <td>    0.3551</td> <td>    0.205</td> <td>    1.731</td> <td> 0.084</td> <td>   -0.047</td> <td>    0.757</td>\n",
       "</tr>\n",
       "<tr>\n",
       "  <th>TESTED_GRADE_SUBJECT[T.Grade 6]</th>      <td>    0.1882</td> <td>    0.206</td> <td>    0.913</td> <td> 0.361</td> <td>   -0.216</td> <td>    0.592</td>\n",
       "</tr>\n",
       "<tr>\n",
       "  <th>TESTED_GRADE_SUBJECT[T.Grade 7]</th>      <td>    0.2406</td> <td>    0.207</td> <td>    1.165</td> <td> 0.244</td> <td>   -0.165</td> <td>    0.646</td>\n",
       "</tr>\n",
       "<tr>\n",
       "  <th>TESTED_GRADE_SUBJECT[T.Grade 8]</th>      <td>    0.0932</td> <td>    0.207</td> <td>    0.450</td> <td> 0.653</td> <td>   -0.313</td> <td>    0.499</td>\n",
       "</tr>\n",
       "<tr>\n",
       "  <th>TESTED_GRADE_SUBJECT[T.Grades 3-8]</th>   <td>    0.3048</td> <td>    0.203</td> <td>    1.499</td> <td> 0.134</td> <td>   -0.094</td> <td>    0.704</td>\n",
       "</tr>\n",
       "<tr>\n",
       "  <th>TESTED_GRADE_SUBJECT[T.Grades 9-12]</th>  <td>    0.0052</td> <td>    0.207</td> <td>    0.025</td> <td> 0.980</td> <td>   -0.401</td> <td>    0.412</td>\n",
       "</tr>\n",
       "<tr>\n",
       "  <th>TESTED_GRADE_SUBJECT[T.Integrated M]</th> <td>    0.3353</td> <td>    0.378</td> <td>    0.887</td> <td> 0.375</td> <td>   -0.406</td> <td>    1.077</td>\n",
       "</tr>\n",
       "<tr>\n",
       "  <th>SUBGROUP_VALUE[T.Hispanic/Latino]</th>    <td>    0.0357</td> <td>    0.037</td> <td>    0.971</td> <td> 0.332</td> <td>   -0.036</td> <td>    0.108</td>\n",
       "</tr>\n",
       "<tr>\n",
       "  <th>SUBGROUP_VALUE[T.White/Caucasian]</th>    <td>    1.2345</td> <td>    0.046</td> <td>   26.588</td> <td> 0.000</td> <td>    1.143</td> <td>    1.326</td>\n",
       "</tr>\n",
       "</table>\n",
       "<table class=\"simpletable\">\n",
       "<tr>\n",
       "  <th>Omnibus:</th>       <td>57.059</td> <th>  Durbin-Watson:     </th> <td>   1.464</td>\n",
       "</tr>\n",
       "<tr>\n",
       "  <th>Prob(Omnibus):</th> <td> 0.000</td> <th>  Jarque-Bera (JB):  </th> <td>  72.907</td>\n",
       "</tr>\n",
       "<tr>\n",
       "  <th>Skew:</th>          <td> 0.394</td> <th>  Prob(JB):          </th> <td>1.47e-16</td>\n",
       "</tr>\n",
       "<tr>\n",
       "  <th>Kurtosis:</th>      <td> 3.717</td> <th>  Cond. No.          </th> <td>    82.5</td>\n",
       "</tr>\n",
       "</table>"
      ],
      "text/plain": [
       "<class 'statsmodels.iolib.summary.Summary'>\n",
       "\"\"\"\n",
       "                            OLS Regression Results                            \n",
       "==============================================================================\n",
       "Dep. Variable:          average_level   R-squared:                       0.568\n",
       "Model:                            OLS   Adj. R-squared:                  0.562\n",
       "Method:                 Least Squares   F-statistic:                     90.68\n",
       "Date:                Thu, 02 May 2019   Prob (F-statistic):          1.76e-257\n",
       "Time:                        00:19:53   Log-Likelihood:                -942.07\n",
       "No. Observations:                1541   AIC:                             1930.\n",
       "Df Residuals:                    1518   BIC:                             2053.\n",
       "Df Model:                          22                                         \n",
       "Covariance Type:            nonrobust                                         \n",
       "========================================================================================================\n",
       "                                           coef    std err          t      P>|t|      [0.025      0.975]\n",
       "--------------------------------------------------------------------------------------------------------\n",
       "Intercept                                2.2896      0.205     11.158      0.000       1.887       2.692\n",
       "SCHOOL_WARD[T.Ward 2]                    0.3256      0.062      5.231      0.000       0.204       0.448\n",
       "SCHOOL_WARD[T.Ward 3]                    0.4076      0.058      7.058      0.000       0.294       0.521\n",
       "SCHOOL_WARD[T.Ward 4]                    0.0418      0.044      0.957      0.339      -0.044       0.128\n",
       "SCHOOL_WARD[T.Ward 5]                   -0.1219      0.048     -2.563      0.010      -0.215      -0.029\n",
       "SCHOOL_WARD[T.Ward 6]                   -0.0563      0.049     -1.144      0.253      -0.153       0.040\n",
       "SCHOOL_WARD[T.Ward 7]                   -0.2049      0.050     -4.130      0.000      -0.302      -0.108\n",
       "SCHOOL_WARD[T.Ward 8]                   -0.3874      0.049     -7.959      0.000      -0.483      -0.292\n",
       "SUBJECT[T.Math]                         -0.0135      0.024     -0.568      0.570      -0.060       0.033\n",
       "TESTED_GRADE_SUBJECT[T.Algebra II]      -0.3463      0.378     -0.916      0.360      -1.088       0.395\n",
       "TESTED_GRADE_SUBJECT[T.English II]       0.0469      0.214      0.220      0.826      -0.372       0.466\n",
       "TESTED_GRADE_SUBJECT[T.Geometry]        -0.0517      0.212     -0.244      0.808      -0.468       0.364\n",
       "TESTED_GRADE_SUBJECT[T.Grade 3]          0.2705      0.205      1.321      0.187      -0.131       0.672\n",
       "TESTED_GRADE_SUBJECT[T.Grade 4]          0.3304      0.205      1.613      0.107      -0.071       0.732\n",
       "TESTED_GRADE_SUBJECT[T.Grade 5]          0.3551      0.205      1.731      0.084      -0.047       0.757\n",
       "TESTED_GRADE_SUBJECT[T.Grade 6]          0.1882      0.206      0.913      0.361      -0.216       0.592\n",
       "TESTED_GRADE_SUBJECT[T.Grade 7]          0.2406      0.207      1.165      0.244      -0.165       0.646\n",
       "TESTED_GRADE_SUBJECT[T.Grade 8]          0.0932      0.207      0.450      0.653      -0.313       0.499\n",
       "TESTED_GRADE_SUBJECT[T.Grades 3-8]       0.3048      0.203      1.499      0.134      -0.094       0.704\n",
       "TESTED_GRADE_SUBJECT[T.Grades 9-12]      0.0052      0.207      0.025      0.980      -0.401       0.412\n",
       "TESTED_GRADE_SUBJECT[T.Integrated M]     0.3353      0.378      0.887      0.375      -0.406       1.077\n",
       "SUBGROUP_VALUE[T.Hispanic/Latino]        0.0357      0.037      0.971      0.332      -0.036       0.108\n",
       "SUBGROUP_VALUE[T.White/Caucasian]        1.2345      0.046     26.588      0.000       1.143       1.326\n",
       "==============================================================================\n",
       "Omnibus:                       57.059   Durbin-Watson:                   1.464\n",
       "Prob(Omnibus):                  0.000   Jarque-Bera (JB):               72.907\n",
       "Skew:                           0.394   Prob(JB):                     1.47e-16\n",
       "Kurtosis:                       3.717   Cond. No.                         82.5\n",
       "==============================================================================\n",
       "\n",
       "Warnings:\n",
       "[1] Standard Errors assume that the covariance matrix of the errors is correctly specified.\n",
       "\"\"\""
      ]
     },
     "execution_count": 73,
     "metadata": {},
     "output_type": "execute_result"
    }
   ],
   "source": [
    "#race_results = smf.logit(race_formula, data=df_race_model).fit(method='bfgs', maxiter=100)\n",
    "race_results = smf.ols(race_formula, data=df_race_model).fit()\n",
    "race_results.summary()"
   ]
  },
  {
   "cell_type": "code",
   "execution_count": 74,
   "metadata": {
    "collapsed": false
   },
   "outputs": [
    {
     "name": "stdout",
     "output_type": "stream",
     "text": [
      "Score for the training set: 0.5678797600826108\n"
     ]
    }
   ],
   "source": [
    "race_pred = race_results.predict(df_race_model) # Predict probability\n",
    "race_score = r2_score(df_race_model['average_level'], race_pred)\n",
    "#print 'Area under the ROC curve: ' + str(twitter_score)\n",
    "print 'Score for the training set: ' + str(race_score)"
   ]
  },
  {
   "cell_type": "markdown",
   "metadata": {},
   "source": [
    "The R squared value is 0.57, which means 57% of the data is explained by the model.\n",
    "\n",
    "Now I want to know which features are most predictive of the average level. More positive the coefficient, the more positively it affects the outcome, and more negative the coefficient, the more negatively it affects the outcome. I also only want to consider statistically significant features, so I only consider those features with p-values less than $0.05/N$, where $N$ is the total number of features in the model. This is the Bonferroni correction, and is conservative but a quick way to deal with cases when you have many features, since by chance some may appear statistically significant."
   ]
  },
  {
   "cell_type": "code",
   "execution_count": 75,
   "metadata": {
    "collapsed": false
   },
   "outputs": [
    {
     "data": {
      "text/html": [
       "<div>\n",
       "<style scoped>\n",
       "    .dataframe tbody tr th:only-of-type {\n",
       "        vertical-align: middle;\n",
       "    }\n",
       "\n",
       "    .dataframe tbody tr th {\n",
       "        vertical-align: top;\n",
       "    }\n",
       "\n",
       "    .dataframe thead th {\n",
       "        text-align: right;\n",
       "    }\n",
       "</style>\n",
       "<table border=\"1\" class=\"dataframe\">\n",
       "  <thead>\n",
       "    <tr style=\"text-align: right;\">\n",
       "      <th></th>\n",
       "      <th>params</th>\n",
       "      <th>pvalues</th>\n",
       "    </tr>\n",
       "  </thead>\n",
       "  <tbody>\n",
       "    <tr>\n",
       "      <th>SCHOOL_WARD[T.Ward 8]</th>\n",
       "      <td>-0.387426</td>\n",
       "      <td>3.377372e-15</td>\n",
       "    </tr>\n",
       "    <tr>\n",
       "      <th>SCHOOL_WARD[T.Ward 7]</th>\n",
       "      <td>-0.204938</td>\n",
       "      <td>3.830926e-05</td>\n",
       "    </tr>\n",
       "    <tr>\n",
       "      <th>SCHOOL_WARD[T.Ward 5]</th>\n",
       "      <td>-0.121866</td>\n",
       "      <td>1.048703e-02</td>\n",
       "    </tr>\n",
       "    <tr>\n",
       "      <th>SCHOOL_WARD[T.Ward 2]</th>\n",
       "      <td>0.325594</td>\n",
       "      <td>1.918392e-07</td>\n",
       "    </tr>\n",
       "    <tr>\n",
       "      <th>SCHOOL_WARD[T.Ward 3]</th>\n",
       "      <td>0.407632</td>\n",
       "      <td>2.557064e-12</td>\n",
       "    </tr>\n",
       "    <tr>\n",
       "      <th>SUBGROUP_VALUE[T.White/Caucasian]</th>\n",
       "      <td>1.234476</td>\n",
       "      <td>3.387583e-128</td>\n",
       "    </tr>\n",
       "    <tr>\n",
       "      <th>Intercept</th>\n",
       "      <td>2.289633</td>\n",
       "      <td>7.667785e-28</td>\n",
       "    </tr>\n",
       "  </tbody>\n",
       "</table>\n",
       "</div>"
      ],
      "text/plain": [
       "                                     params        pvalues\n",
       "SCHOOL_WARD[T.Ward 8]             -0.387426   3.377372e-15\n",
       "SCHOOL_WARD[T.Ward 7]             -0.204938   3.830926e-05\n",
       "SCHOOL_WARD[T.Ward 5]             -0.121866   1.048703e-02\n",
       "SCHOOL_WARD[T.Ward 2]              0.325594   1.918392e-07\n",
       "SCHOOL_WARD[T.Ward 3]              0.407632   2.557064e-12\n",
       "SUBGROUP_VALUE[T.White/Caucasian]  1.234476  3.387583e-128\n",
       "Intercept                          2.289633   7.667785e-28"
      ]
     },
     "execution_count": 75,
     "metadata": {},
     "output_type": "execute_result"
    }
   ],
   "source": [
    "race_params = pd.DataFrame([race_results.params, race_results.pvalues], index = ['params','pvalues'])\n",
    "race_params = race_params.transpose()\n",
    "race_params[race_params.pvalues < 0.05/(df_race_model.shape[1] - 1)].sort_values(by = ['params'])"
   ]
  },
  {
   "cell_type": "markdown",
   "metadata": {},
   "source": [
    "The test subject is not predictive of whether a group passes. This makes sense, because each subject should be calibrated so that roughly the same fraction of students achieve the same level across all subjects.\n",
    "\n",
    "Race is predictive. In this case, the baseline is the `Black/African American` category. Being `White/Caucasian` increases the average level by 1.23, all else being constant. Relative to the baseline, `Hispanic/Latino` has no effect.\n",
    "\n",
    "Ward is generally predictive of average level. Below is a map of the different wards of DC."
   ]
  },
  {
   "cell_type": "markdown",
   "metadata": {},
   "source": [
    "Ward image from https://planning.dc.gov/page/neighborhood-planning-01.\n",
    "\n",
    "![title](wards_small.png)"
   ]
  },
  {
   "cell_type": "markdown",
   "metadata": {},
   "source": [
    "Wards 8, 7, and 5 are generally the lower median income areas, and Wards 2 and 3 are the higher median income areas. (http://dceconomicstrategy.com/household-income/) So Ward is most likely a proxy for the economic well-being of the school and possibly for the students as well."
   ]
  },
  {
   "cell_type": "markdown",
   "metadata": {},
   "source": [
    "# Recommendations\n",
    "\n",
    "From the model, I can conclude that it would be beneficial to find a way to help African American students as well as Hispanic students, perhaps by engaging the parents and the local communities to foster an environment of encouraging academic excellence. Independent of race, schools located in different Wards perform differently. In particular, schools located in Wards with lower median income tend to perform worse on the tests, so the school system can perhaps look at ways to redistribute funding in a way so that the schools in the Wards with lower test scores can have the necessary funds for upkeep and maintenance as well as to attract the best and brightest teachers and fund school activities that would enrich the students lives.\n",
    "\n",
    "Note that my model does not distinguish between individual schools. I did not take this into account since the data did not contain sufficient granularity to definitively prevent overfitting. If I had individual student level data, then a prediction model including the individual schools could reveal particular schools that are performing better or worse, independent of all of the other factors."
   ]
  }
 ],
 "metadata": {
  "kernelspec": {
   "display_name": "Python 2",
   "language": "python",
   "name": "python2"
  },
  "language_info": {
   "codemirror_mode": {
    "name": "ipython",
    "version": 2
   },
   "file_extension": ".py",
   "mimetype": "text/x-python",
   "name": "python",
   "nbconvert_exporter": "python",
   "pygments_lexer": "ipython2",
   "version": "2.7.13"
  }
 },
 "nbformat": 4,
 "nbformat_minor": 2
}
